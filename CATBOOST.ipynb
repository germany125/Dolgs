{
  "cells": [
    {
      "cell_type": "code",
      "execution_count": 1,
      "metadata": {
        "id": "vYKAzhpzllQW"
      },
      "outputs": [],
      "source": [
        "import pandas as pd\n",
        "from sklearn.model_selection import cross_validate\n",
        "from sklearn.preprocessing import OneHotEncoder\n",
        "from sklearn import tree\n",
        "from sklearn.model_selection import RepeatedStratifiedKFold\n",
        "from sklearn.model_selection import GridSearchCV\n",
        "from sklearn.ensemble import RandomForestClassifier\n",
        "import matplotlib.pyplot as plt\n",
        "import numpy as np\n",
        "from sklearn.ensemble import GradientBoostingClassifier\n",
        "from sklearn.metrics import precision_score,recall_score,accuracy_score"
      ]
    },
    {
      "cell_type": "code",
      "execution_count": 2,
      "metadata": {
        "colab": {
          "base_uri": "https://localhost:8080/"
        },
        "id": "Q4TrptoNllQh",
        "outputId": "d176879d-ddf8-4bd2-ed23-0043e385cc6a"
      },
      "outputs": [
        {
          "output_type": "stream",
          "name": "stdout",
          "text": [
            "Path to dataset files: /root/.cache/kagglehub/datasets/ankushpanday2/colorectal-cancer-global-dataset-and-predictions/versions/1\n"
          ]
        }
      ],
      "source": [
        "import kagglehub\n",
        "\n",
        "# Download latest version\n",
        "path = kagglehub.dataset_download(\"ankushpanday2/colorectal-cancer-global-dataset-and-predictions\")\n",
        "\n",
        "print(\"Path to dataset files:\", path)"
      ]
    },
    {
      "cell_type": "code",
      "execution_count": 3,
      "metadata": {
        "colab": {
          "base_uri": "https://localhost:8080/",
          "height": 256
        },
        "id": "_LJg7whsllQn",
        "outputId": "eb27cbd9-b258-44b5-f3af-ccd73174fd42"
      },
      "outputs": [
        {
          "output_type": "execute_result",
          "data": {
            "text/plain": [
              "   Patient_ID Country  Age Gender Cancer_Stage  Tumor_Size_mm Family_History  \\\n",
              "0           1      UK   77      M    Localized             69             No   \n",
              "1           2      UK   59      M    Localized             33             No   \n",
              "2           3   Japan   66      M     Regional             17             No   \n",
              "3           4     USA   83      M     Regional             14             No   \n",
              "4           5  France   66      M    Localized             34             No   \n",
              "\n",
              "  Smoking_History Alcohol_Consumption Obesity_BMI  ... Survival_5_years  \\\n",
              "0              No                 Yes  Overweight  ...              Yes   \n",
              "1              No                  No  Overweight  ...              Yes   \n",
              "2             Yes                  No      Normal  ...              Yes   \n",
              "3              No                  No       Obese  ...              Yes   \n",
              "4             Yes                  No      Normal  ...              Yes   \n",
              "\n",
              "  Mortality Healthcare_Costs Incidence_Rate_per_100K Mortality_Rate_per_100K  \\\n",
              "0        No            54413                      50                       5   \n",
              "1        No            76553                      37                      25   \n",
              "2        No            62805                      54                      27   \n",
              "3        No            89393                      45                      11   \n",
              "4        No            66425                      15                      27   \n",
              "\n",
              "  Urban_or_Rural Economic_Classification Healthcare_Access Insurance_Status  \\\n",
              "0          Urban               Developed          Moderate          Insured   \n",
              "1          Urban              Developing              High        Uninsured   \n",
              "2          Urban               Developed          Moderate        Uninsured   \n",
              "3          Urban               Developed          Moderate          Insured   \n",
              "4          Urban              Developing              High          Insured   \n",
              "\n",
              "  Survival_Prediction  \n",
              "0                 Yes  \n",
              "1                 Yes  \n",
              "2                  No  \n",
              "3                 Yes  \n",
              "4                 Yes  \n",
              "\n",
              "[5 rows x 28 columns]"
            ],
            "text/html": [
              "\n",
              "  <div id=\"df-fdff2a3a-53c4-4533-ab3e-ae750a1901bd\" class=\"colab-df-container\">\n",
              "    <div>\n",
              "<style scoped>\n",
              "    .dataframe tbody tr th:only-of-type {\n",
              "        vertical-align: middle;\n",
              "    }\n",
              "\n",
              "    .dataframe tbody tr th {\n",
              "        vertical-align: top;\n",
              "    }\n",
              "\n",
              "    .dataframe thead th {\n",
              "        text-align: right;\n",
              "    }\n",
              "</style>\n",
              "<table border=\"1\" class=\"dataframe\">\n",
              "  <thead>\n",
              "    <tr style=\"text-align: right;\">\n",
              "      <th></th>\n",
              "      <th>Patient_ID</th>\n",
              "      <th>Country</th>\n",
              "      <th>Age</th>\n",
              "      <th>Gender</th>\n",
              "      <th>Cancer_Stage</th>\n",
              "      <th>Tumor_Size_mm</th>\n",
              "      <th>Family_History</th>\n",
              "      <th>Smoking_History</th>\n",
              "      <th>Alcohol_Consumption</th>\n",
              "      <th>Obesity_BMI</th>\n",
              "      <th>...</th>\n",
              "      <th>Survival_5_years</th>\n",
              "      <th>Mortality</th>\n",
              "      <th>Healthcare_Costs</th>\n",
              "      <th>Incidence_Rate_per_100K</th>\n",
              "      <th>Mortality_Rate_per_100K</th>\n",
              "      <th>Urban_or_Rural</th>\n",
              "      <th>Economic_Classification</th>\n",
              "      <th>Healthcare_Access</th>\n",
              "      <th>Insurance_Status</th>\n",
              "      <th>Survival_Prediction</th>\n",
              "    </tr>\n",
              "  </thead>\n",
              "  <tbody>\n",
              "    <tr>\n",
              "      <th>0</th>\n",
              "      <td>1</td>\n",
              "      <td>UK</td>\n",
              "      <td>77</td>\n",
              "      <td>M</td>\n",
              "      <td>Localized</td>\n",
              "      <td>69</td>\n",
              "      <td>No</td>\n",
              "      <td>No</td>\n",
              "      <td>Yes</td>\n",
              "      <td>Overweight</td>\n",
              "      <td>...</td>\n",
              "      <td>Yes</td>\n",
              "      <td>No</td>\n",
              "      <td>54413</td>\n",
              "      <td>50</td>\n",
              "      <td>5</td>\n",
              "      <td>Urban</td>\n",
              "      <td>Developed</td>\n",
              "      <td>Moderate</td>\n",
              "      <td>Insured</td>\n",
              "      <td>Yes</td>\n",
              "    </tr>\n",
              "    <tr>\n",
              "      <th>1</th>\n",
              "      <td>2</td>\n",
              "      <td>UK</td>\n",
              "      <td>59</td>\n",
              "      <td>M</td>\n",
              "      <td>Localized</td>\n",
              "      <td>33</td>\n",
              "      <td>No</td>\n",
              "      <td>No</td>\n",
              "      <td>No</td>\n",
              "      <td>Overweight</td>\n",
              "      <td>...</td>\n",
              "      <td>Yes</td>\n",
              "      <td>No</td>\n",
              "      <td>76553</td>\n",
              "      <td>37</td>\n",
              "      <td>25</td>\n",
              "      <td>Urban</td>\n",
              "      <td>Developing</td>\n",
              "      <td>High</td>\n",
              "      <td>Uninsured</td>\n",
              "      <td>Yes</td>\n",
              "    </tr>\n",
              "    <tr>\n",
              "      <th>2</th>\n",
              "      <td>3</td>\n",
              "      <td>Japan</td>\n",
              "      <td>66</td>\n",
              "      <td>M</td>\n",
              "      <td>Regional</td>\n",
              "      <td>17</td>\n",
              "      <td>No</td>\n",
              "      <td>Yes</td>\n",
              "      <td>No</td>\n",
              "      <td>Normal</td>\n",
              "      <td>...</td>\n",
              "      <td>Yes</td>\n",
              "      <td>No</td>\n",
              "      <td>62805</td>\n",
              "      <td>54</td>\n",
              "      <td>27</td>\n",
              "      <td>Urban</td>\n",
              "      <td>Developed</td>\n",
              "      <td>Moderate</td>\n",
              "      <td>Uninsured</td>\n",
              "      <td>No</td>\n",
              "    </tr>\n",
              "    <tr>\n",
              "      <th>3</th>\n",
              "      <td>4</td>\n",
              "      <td>USA</td>\n",
              "      <td>83</td>\n",
              "      <td>M</td>\n",
              "      <td>Regional</td>\n",
              "      <td>14</td>\n",
              "      <td>No</td>\n",
              "      <td>No</td>\n",
              "      <td>No</td>\n",
              "      <td>Obese</td>\n",
              "      <td>...</td>\n",
              "      <td>Yes</td>\n",
              "      <td>No</td>\n",
              "      <td>89393</td>\n",
              "      <td>45</td>\n",
              "      <td>11</td>\n",
              "      <td>Urban</td>\n",
              "      <td>Developed</td>\n",
              "      <td>Moderate</td>\n",
              "      <td>Insured</td>\n",
              "      <td>Yes</td>\n",
              "    </tr>\n",
              "    <tr>\n",
              "      <th>4</th>\n",
              "      <td>5</td>\n",
              "      <td>France</td>\n",
              "      <td>66</td>\n",
              "      <td>M</td>\n",
              "      <td>Localized</td>\n",
              "      <td>34</td>\n",
              "      <td>No</td>\n",
              "      <td>Yes</td>\n",
              "      <td>No</td>\n",
              "      <td>Normal</td>\n",
              "      <td>...</td>\n",
              "      <td>Yes</td>\n",
              "      <td>No</td>\n",
              "      <td>66425</td>\n",
              "      <td>15</td>\n",
              "      <td>27</td>\n",
              "      <td>Urban</td>\n",
              "      <td>Developing</td>\n",
              "      <td>High</td>\n",
              "      <td>Insured</td>\n",
              "      <td>Yes</td>\n",
              "    </tr>\n",
              "  </tbody>\n",
              "</table>\n",
              "<p>5 rows × 28 columns</p>\n",
              "</div>\n",
              "    <div class=\"colab-df-buttons\">\n",
              "\n",
              "  <div class=\"colab-df-container\">\n",
              "    <button class=\"colab-df-convert\" onclick=\"convertToInteractive('df-fdff2a3a-53c4-4533-ab3e-ae750a1901bd')\"\n",
              "            title=\"Convert this dataframe to an interactive table.\"\n",
              "            style=\"display:none;\">\n",
              "\n",
              "  <svg xmlns=\"http://www.w3.org/2000/svg\" height=\"24px\" viewBox=\"0 -960 960 960\">\n",
              "    <path d=\"M120-120v-720h720v720H120Zm60-500h600v-160H180v160Zm220 220h160v-160H400v160Zm0 220h160v-160H400v160ZM180-400h160v-160H180v160Zm440 0h160v-160H620v160ZM180-180h160v-160H180v160Zm440 0h160v-160H620v160Z\"/>\n",
              "  </svg>\n",
              "    </button>\n",
              "\n",
              "  <style>\n",
              "    .colab-df-container {\n",
              "      display:flex;\n",
              "      gap: 12px;\n",
              "    }\n",
              "\n",
              "    .colab-df-convert {\n",
              "      background-color: #E8F0FE;\n",
              "      border: none;\n",
              "      border-radius: 50%;\n",
              "      cursor: pointer;\n",
              "      display: none;\n",
              "      fill: #1967D2;\n",
              "      height: 32px;\n",
              "      padding: 0 0 0 0;\n",
              "      width: 32px;\n",
              "    }\n",
              "\n",
              "    .colab-df-convert:hover {\n",
              "      background-color: #E2EBFA;\n",
              "      box-shadow: 0px 1px 2px rgba(60, 64, 67, 0.3), 0px 1px 3px 1px rgba(60, 64, 67, 0.15);\n",
              "      fill: #174EA6;\n",
              "    }\n",
              "\n",
              "    .colab-df-buttons div {\n",
              "      margin-bottom: 4px;\n",
              "    }\n",
              "\n",
              "    [theme=dark] .colab-df-convert {\n",
              "      background-color: #3B4455;\n",
              "      fill: #D2E3FC;\n",
              "    }\n",
              "\n",
              "    [theme=dark] .colab-df-convert:hover {\n",
              "      background-color: #434B5C;\n",
              "      box-shadow: 0px 1px 3px 1px rgba(0, 0, 0, 0.15);\n",
              "      filter: drop-shadow(0px 1px 2px rgba(0, 0, 0, 0.3));\n",
              "      fill: #FFFFFF;\n",
              "    }\n",
              "  </style>\n",
              "\n",
              "    <script>\n",
              "      const buttonEl =\n",
              "        document.querySelector('#df-fdff2a3a-53c4-4533-ab3e-ae750a1901bd button.colab-df-convert');\n",
              "      buttonEl.style.display =\n",
              "        google.colab.kernel.accessAllowed ? 'block' : 'none';\n",
              "\n",
              "      async function convertToInteractive(key) {\n",
              "        const element = document.querySelector('#df-fdff2a3a-53c4-4533-ab3e-ae750a1901bd');\n",
              "        const dataTable =\n",
              "          await google.colab.kernel.invokeFunction('convertToInteractive',\n",
              "                                                    [key], {});\n",
              "        if (!dataTable) return;\n",
              "\n",
              "        const docLinkHtml = 'Like what you see? Visit the ' +\n",
              "          '<a target=\"_blank\" href=https://colab.research.google.com/notebooks/data_table.ipynb>data table notebook</a>'\n",
              "          + ' to learn more about interactive tables.';\n",
              "        element.innerHTML = '';\n",
              "        dataTable['output_type'] = 'display_data';\n",
              "        await google.colab.output.renderOutput(dataTable, element);\n",
              "        const docLink = document.createElement('div');\n",
              "        docLink.innerHTML = docLinkHtml;\n",
              "        element.appendChild(docLink);\n",
              "      }\n",
              "    </script>\n",
              "  </div>\n",
              "\n",
              "\n",
              "<div id=\"df-11079e54-3537-4d40-92ce-f5d997f5a012\">\n",
              "  <button class=\"colab-df-quickchart\" onclick=\"quickchart('df-11079e54-3537-4d40-92ce-f5d997f5a012')\"\n",
              "            title=\"Suggest charts\"\n",
              "            style=\"display:none;\">\n",
              "\n",
              "<svg xmlns=\"http://www.w3.org/2000/svg\" height=\"24px\"viewBox=\"0 0 24 24\"\n",
              "     width=\"24px\">\n",
              "    <g>\n",
              "        <path d=\"M19 3H5c-1.1 0-2 .9-2 2v14c0 1.1.9 2 2 2h14c1.1 0 2-.9 2-2V5c0-1.1-.9-2-2-2zM9 17H7v-7h2v7zm4 0h-2V7h2v10zm4 0h-2v-4h2v4z\"/>\n",
              "    </g>\n",
              "</svg>\n",
              "  </button>\n",
              "\n",
              "<style>\n",
              "  .colab-df-quickchart {\n",
              "      --bg-color: #E8F0FE;\n",
              "      --fill-color: #1967D2;\n",
              "      --hover-bg-color: #E2EBFA;\n",
              "      --hover-fill-color: #174EA6;\n",
              "      --disabled-fill-color: #AAA;\n",
              "      --disabled-bg-color: #DDD;\n",
              "  }\n",
              "\n",
              "  [theme=dark] .colab-df-quickchart {\n",
              "      --bg-color: #3B4455;\n",
              "      --fill-color: #D2E3FC;\n",
              "      --hover-bg-color: #434B5C;\n",
              "      --hover-fill-color: #FFFFFF;\n",
              "      --disabled-bg-color: #3B4455;\n",
              "      --disabled-fill-color: #666;\n",
              "  }\n",
              "\n",
              "  .colab-df-quickchart {\n",
              "    background-color: var(--bg-color);\n",
              "    border: none;\n",
              "    border-radius: 50%;\n",
              "    cursor: pointer;\n",
              "    display: none;\n",
              "    fill: var(--fill-color);\n",
              "    height: 32px;\n",
              "    padding: 0;\n",
              "    width: 32px;\n",
              "  }\n",
              "\n",
              "  .colab-df-quickchart:hover {\n",
              "    background-color: var(--hover-bg-color);\n",
              "    box-shadow: 0 1px 2px rgba(60, 64, 67, 0.3), 0 1px 3px 1px rgba(60, 64, 67, 0.15);\n",
              "    fill: var(--button-hover-fill-color);\n",
              "  }\n",
              "\n",
              "  .colab-df-quickchart-complete:disabled,\n",
              "  .colab-df-quickchart-complete:disabled:hover {\n",
              "    background-color: var(--disabled-bg-color);\n",
              "    fill: var(--disabled-fill-color);\n",
              "    box-shadow: none;\n",
              "  }\n",
              "\n",
              "  .colab-df-spinner {\n",
              "    border: 2px solid var(--fill-color);\n",
              "    border-color: transparent;\n",
              "    border-bottom-color: var(--fill-color);\n",
              "    animation:\n",
              "      spin 1s steps(1) infinite;\n",
              "  }\n",
              "\n",
              "  @keyframes spin {\n",
              "    0% {\n",
              "      border-color: transparent;\n",
              "      border-bottom-color: var(--fill-color);\n",
              "      border-left-color: var(--fill-color);\n",
              "    }\n",
              "    20% {\n",
              "      border-color: transparent;\n",
              "      border-left-color: var(--fill-color);\n",
              "      border-top-color: var(--fill-color);\n",
              "    }\n",
              "    30% {\n",
              "      border-color: transparent;\n",
              "      border-left-color: var(--fill-color);\n",
              "      border-top-color: var(--fill-color);\n",
              "      border-right-color: var(--fill-color);\n",
              "    }\n",
              "    40% {\n",
              "      border-color: transparent;\n",
              "      border-right-color: var(--fill-color);\n",
              "      border-top-color: var(--fill-color);\n",
              "    }\n",
              "    60% {\n",
              "      border-color: transparent;\n",
              "      border-right-color: var(--fill-color);\n",
              "    }\n",
              "    80% {\n",
              "      border-color: transparent;\n",
              "      border-right-color: var(--fill-color);\n",
              "      border-bottom-color: var(--fill-color);\n",
              "    }\n",
              "    90% {\n",
              "      border-color: transparent;\n",
              "      border-bottom-color: var(--fill-color);\n",
              "    }\n",
              "  }\n",
              "</style>\n",
              "\n",
              "  <script>\n",
              "    async function quickchart(key) {\n",
              "      const quickchartButtonEl =\n",
              "        document.querySelector('#' + key + ' button');\n",
              "      quickchartButtonEl.disabled = true;  // To prevent multiple clicks.\n",
              "      quickchartButtonEl.classList.add('colab-df-spinner');\n",
              "      try {\n",
              "        const charts = await google.colab.kernel.invokeFunction(\n",
              "            'suggestCharts', [key], {});\n",
              "      } catch (error) {\n",
              "        console.error('Error during call to suggestCharts:', error);\n",
              "      }\n",
              "      quickchartButtonEl.classList.remove('colab-df-spinner');\n",
              "      quickchartButtonEl.classList.add('colab-df-quickchart-complete');\n",
              "    }\n",
              "    (() => {\n",
              "      let quickchartButtonEl =\n",
              "        document.querySelector('#df-11079e54-3537-4d40-92ce-f5d997f5a012 button');\n",
              "      quickchartButtonEl.style.display =\n",
              "        google.colab.kernel.accessAllowed ? 'block' : 'none';\n",
              "    })();\n",
              "  </script>\n",
              "</div>\n",
              "    </div>\n",
              "  </div>\n"
            ],
            "application/vnd.google.colaboratory.intrinsic+json": {
              "type": "dataframe",
              "variable_name": "cancer"
            }
          },
          "metadata": {},
          "execution_count": 3
        }
      ],
      "source": [
        "cancer = pd.read_csv(f\"{path}/colorectal_cancer_dataset.csv\")\n",
        "cancer.head()"
      ]
    },
    {
      "cell_type": "code",
      "execution_count": 4,
      "metadata": {
        "colab": {
          "base_uri": "https://localhost:8080/"
        },
        "id": "7AXIkidYllQo",
        "outputId": "69a109c5-3ca4-4b21-92f2-4197dbf382e6"
      },
      "outputs": [
        {
          "output_type": "stream",
          "name": "stdout",
          "text": [
            "        Patient_ID Country  Age  Gender Cancer_Stage  Tumor_Size_mm  \\\n",
            "0                1      UK   77       0    Localized             69   \n",
            "1                2      UK   59       0    Localized             33   \n",
            "2                3   Japan   66       0     Regional             17   \n",
            "3                4     USA   83       0     Regional             14   \n",
            "4                5  France   66       0    Localized             34   \n",
            "...            ...     ...  ...     ...          ...            ...   \n",
            "167492      167493     USA   69       0    Localized             49   \n",
            "167493      167494     USA   79       1     Regional             29   \n",
            "167494      167495     USA   74       0   Metastatic             62   \n",
            "167495      167496      UK   68       1    Localized             35   \n",
            "167496      167497  France   79       1   Metastatic             67   \n",
            "\n",
            "        Family_History  Smoking_History  Alcohol_Consumption Obesity_BMI  ...  \\\n",
            "0                    0                0                    1  Overweight  ...   \n",
            "1                    0                0                    0  Overweight  ...   \n",
            "2                    0                1                    0      Normal  ...   \n",
            "3                    0                0                    0       Obese  ...   \n",
            "4                    0                1                    0      Normal  ...   \n",
            "...                ...              ...                  ...         ...  ...   \n",
            "167492               0                1                    0  Overweight  ...   \n",
            "167493               1                1                    1  Overweight  ...   \n",
            "167494               1                1                    1      Normal  ...   \n",
            "167495               0                1                    1      Normal  ...   \n",
            "167496               1                0                    0       Obese  ...   \n",
            "\n",
            "       Survival_5_years Mortality Healthcare_Costs Incidence_Rate_per_100K  \\\n",
            "0                   Yes         0            54413                      50   \n",
            "1                   Yes         0            76553                      37   \n",
            "2                   Yes         0            62805                      54   \n",
            "3                   Yes         0            89393                      45   \n",
            "4                   Yes         0            66425                      15   \n",
            "...                 ...       ...              ...                     ...   \n",
            "167492               No         1           100924                      57   \n",
            "167493              Yes         1            90331                      39   \n",
            "167494              Yes         1            90631                      13   \n",
            "167495              Yes         0           114385                      18   \n",
            "167496              Yes         1            47204                      14   \n",
            "\n",
            "       Mortality_Rate_per_100K Urban_or_Rural Economic_Classification  \\\n",
            "0                            5            NaN                       1   \n",
            "1                           25            NaN                       0   \n",
            "2                           27            NaN                       1   \n",
            "3                           11            NaN                       1   \n",
            "4                           27            NaN                       0   \n",
            "...                        ...            ...                     ...   \n",
            "167492                      13            0.0                       1   \n",
            "167493                      22            NaN                       1   \n",
            "167494                      19            NaN                       0   \n",
            "167495                      23            NaN                       1   \n",
            "167496                      17            0.0                       1   \n",
            "\n",
            "       Healthcare_Access Insurance_Status  Survival_Prediction  \n",
            "0               Moderate                1                    1  \n",
            "1                   High                0                    1  \n",
            "2               Moderate                0                    0  \n",
            "3               Moderate                1                    1  \n",
            "4                   High                1                    1  \n",
            "...                  ...              ...                  ...  \n",
            "167492          Moderate                1                    1  \n",
            "167493               Low                1                    1  \n",
            "167494               Low                1                    1  \n",
            "167495          Moderate                1                    1  \n",
            "167496               Low                0                    1  \n",
            "\n",
            "[167497 rows x 28 columns]\n"
          ]
        }
      ],
      "source": [
        "#предобработка\n",
        "cancer['Gender']=cancer['Gender'].map({'F':1,'M':0})\n",
        "cancer['Alcohol_Consumption']=cancer['Alcohol_Consumption'].map({'Yes':1,'No':0})\n",
        "cancer['Smoking_History']=cancer['Smoking_History'].map({'Yes':1,'No':0})\n",
        "cancer['Survival_Prediction']=cancer['Survival_Prediction'].map({'Yes':1,'No':0})\n",
        "cancer['Insurance_Status']=cancer['Insurance_Status'].map({'Insured':1,'Uninsured':0})\n",
        "cancer['Economic_Classification']=cancer['Economic_Classification'].map({'Developed':1,'Developing':0})\n",
        "cancer['Urban_or_Rural']=cancer['Urban_or_Rural'].map({'Urban\t':1,'Rural':0})\n",
        "cancer['Mortality']=cancer['Mortality'].map({'Yes':1,'No':0})\n",
        "cancer['Family_History']=cancer['Family_History'].map({'Yes':1,'No':0})\n",
        "print(cancer)"
      ]
    },
    {
      "cell_type": "code",
      "execution_count": 5,
      "metadata": {
        "colab": {
          "base_uri": "https://localhost:8080/"
        },
        "id": "F8_c3zJsllQv",
        "outputId": "573cb43e-0a71-401e-b32f-b19634181f22"
      },
      "outputs": [
        {
          "output_type": "stream",
          "name": "stdout",
          "text": [
            "        Patient_ID  Age  Gender Cancer_Stage  Tumor_Size_mm  Family_History  \\\n",
            "0                1   77       0    Localized             69               0   \n",
            "1                2   59       0    Localized             33               0   \n",
            "2                3   66       0     Regional             17               0   \n",
            "3                4   83       0     Regional             14               0   \n",
            "4                5   66       0    Localized             34               0   \n",
            "...            ...  ...     ...          ...            ...             ...   \n",
            "167492      167493   69       0    Localized             49               0   \n",
            "167493      167494   79       1     Regional             29               1   \n",
            "167494      167495   74       0   Metastatic             62               1   \n",
            "167495      167496   68       1    Localized             35               0   \n",
            "167496      167497   79       1   Metastatic             67               1   \n",
            "\n",
            "        Smoking_History  Alcohol_Consumption Obesity_BMI Diet_Risk  ...  \\\n",
            "0                     0                    1  Overweight       Low  ...   \n",
            "1                     0                    0  Overweight  Moderate  ...   \n",
            "2                     1                    0      Normal       Low  ...   \n",
            "3                     0                    0       Obese      High  ...   \n",
            "4                     1                    0      Normal       Low  ...   \n",
            "...                 ...                  ...         ...       ...  ...   \n",
            "167492                1                    0  Overweight      High  ...   \n",
            "167493                1                    1  Overweight      High  ...   \n",
            "167494                1                    1      Normal  Moderate  ...   \n",
            "167495                1                    1      Normal  Moderate  ...   \n",
            "167496                0                    0       Obese  Moderate  ...   \n",
            "\n",
            "       Treatment_Type Survival_5_years Mortality Healthcare_Costs  \\\n",
            "0         Combination              Yes         0            54413   \n",
            "1        Chemotherapy              Yes         0            76553   \n",
            "2        Chemotherapy              Yes         0            62805   \n",
            "3             Surgery              Yes         0            89393   \n",
            "4             Surgery              Yes         0            66425   \n",
            "...               ...              ...       ...              ...   \n",
            "167492    Combination               No         1           100924   \n",
            "167493   Chemotherapy              Yes         1            90331   \n",
            "167494   Chemotherapy              Yes         1            90631   \n",
            "167495        Surgery              Yes         0           114385   \n",
            "167496   Chemotherapy              Yes         1            47204   \n",
            "\n",
            "       Incidence_Rate_per_100K Mortality_Rate_per_100K Urban_or_Rural  \\\n",
            "0                           50                       5            NaN   \n",
            "1                           37                      25            NaN   \n",
            "2                           54                      27            NaN   \n",
            "3                           45                      11            NaN   \n",
            "4                           15                      27            NaN   \n",
            "...                        ...                     ...            ...   \n",
            "167492                      57                      13            0.0   \n",
            "167493                      39                      22            NaN   \n",
            "167494                      13                      19            NaN   \n",
            "167495                      18                      23            NaN   \n",
            "167496                      14                      17            0.0   \n",
            "\n",
            "       Economic_Classification  Healthcare_Access  Insurance_Status  \n",
            "0                            1           Moderate                 1  \n",
            "1                            0               High                 0  \n",
            "2                            1           Moderate                 0  \n",
            "3                            1           Moderate                 1  \n",
            "4                            0               High                 1  \n",
            "...                        ...                ...               ...  \n",
            "167492                       1           Moderate                 1  \n",
            "167493                       1                Low                 1  \n",
            "167494                       0                Low                 1  \n",
            "167495                       1           Moderate                 1  \n",
            "167496                       1                Low                 0  \n",
            "\n",
            "[167497 rows x 26 columns]\n"
          ]
        }
      ],
      "source": [
        "#делим на X и Y\n",
        "Y = cancer['Survival_Prediction']\n",
        "X = cancer.drop(['Survival_Prediction','Country'],axis=1)\n",
        "print(X)\n"
      ]
    },
    {
      "cell_type": "code",
      "execution_count": 6,
      "metadata": {
        "id": "OnaDJIDJllQx"
      },
      "outputs": [],
      "source": [
        "from sklearn.metrics import accuracy_score\n",
        "from sklearn.model_selection import train_test_split"
      ]
    },
    {
      "cell_type": "code",
      "execution_count": 7,
      "metadata": {
        "colab": {
          "base_uri": "https://localhost:8080/"
        },
        "id": "0RmOZbPpnyGJ",
        "outputId": "a1b2acac-d1cb-4dee-ca29-dc9960d9bc3d"
      },
      "outputs": [
        {
          "output_type": "stream",
          "name": "stdout",
          "text": [
            "Requirement already satisfied: numpy==1.23.5 in /usr/local/lib/python3.11/dist-packages (1.23.5)\n"
          ]
        }
      ],
      "source": [
        "pip install numpy==1.23.5"
      ]
    },
    {
      "cell_type": "code",
      "source": [
        "pip install --upgrade catboost"
      ],
      "metadata": {
        "colab": {
          "base_uri": "https://localhost:8080/"
        },
        "id": "Vhqie0-JIFQ6",
        "outputId": "7b3b95ab-f47e-44df-c8c0-05f76ebd0c55"
      },
      "execution_count": 8,
      "outputs": [
        {
          "output_type": "stream",
          "name": "stdout",
          "text": [
            "Requirement already satisfied: catboost in /usr/local/lib/python3.11/dist-packages (1.2.7)\n",
            "Requirement already satisfied: graphviz in /usr/local/lib/python3.11/dist-packages (from catboost) (0.20.3)\n",
            "Requirement already satisfied: matplotlib in /usr/local/lib/python3.11/dist-packages (from catboost) (3.10.0)\n",
            "Requirement already satisfied: numpy<2.0,>=1.16.0 in /usr/local/lib/python3.11/dist-packages (from catboost) (1.23.5)\n",
            "Requirement already satisfied: pandas>=0.24 in /usr/local/lib/python3.11/dist-packages (from catboost) (2.2.2)\n",
            "Requirement already satisfied: scipy in /usr/local/lib/python3.11/dist-packages (from catboost) (1.14.1)\n",
            "Requirement already satisfied: plotly in /usr/local/lib/python3.11/dist-packages (from catboost) (5.24.1)\n",
            "Requirement already satisfied: six in /usr/local/lib/python3.11/dist-packages (from catboost) (1.17.0)\n",
            "Requirement already satisfied: python-dateutil>=2.8.2 in /usr/local/lib/python3.11/dist-packages (from pandas>=0.24->catboost) (2.8.2)\n",
            "Requirement already satisfied: pytz>=2020.1 in /usr/local/lib/python3.11/dist-packages (from pandas>=0.24->catboost) (2025.1)\n",
            "Requirement already satisfied: tzdata>=2022.7 in /usr/local/lib/python3.11/dist-packages (from pandas>=0.24->catboost) (2025.1)\n",
            "Requirement already satisfied: contourpy>=1.0.1 in /usr/local/lib/python3.11/dist-packages (from matplotlib->catboost) (1.3.1)\n",
            "Requirement already satisfied: cycler>=0.10 in /usr/local/lib/python3.11/dist-packages (from matplotlib->catboost) (0.12.1)\n",
            "Requirement already satisfied: fonttools>=4.22.0 in /usr/local/lib/python3.11/dist-packages (from matplotlib->catboost) (4.56.0)\n",
            "Requirement already satisfied: kiwisolver>=1.3.1 in /usr/local/lib/python3.11/dist-packages (from matplotlib->catboost) (1.4.8)\n",
            "Requirement already satisfied: packaging>=20.0 in /usr/local/lib/python3.11/dist-packages (from matplotlib->catboost) (24.2)\n",
            "Requirement already satisfied: pillow>=8 in /usr/local/lib/python3.11/dist-packages (from matplotlib->catboost) (11.1.0)\n",
            "Requirement already satisfied: pyparsing>=2.3.1 in /usr/local/lib/python3.11/dist-packages (from matplotlib->catboost) (3.2.1)\n",
            "Requirement already satisfied: tenacity>=6.2.0 in /usr/local/lib/python3.11/dist-packages (from plotly->catboost) (9.0.0)\n"
          ]
        }
      ]
    },
    {
      "cell_type": "code",
      "execution_count": 9,
      "metadata": {
        "id": "9AUhZ3dTllQ0"
      },
      "outputs": [],
      "source": [
        "from catboost import CatBoostClassifier"
      ]
    },
    {
      "cell_type": "code",
      "execution_count": 10,
      "metadata": {
        "colab": {
          "base_uri": "https://localhost:8080/",
          "height": 206
        },
        "id": "T0NJnrd2llQ2",
        "outputId": "d017b50d-7742-4572-e63d-08b85e79ef21"
      },
      "outputs": [
        {
          "output_type": "execute_result",
          "data": {
            "text/plain": [
              "   Gender  Age  Alcohol_Consumption  Survival_Prediction  Smoking_History\n",
              "0       0   77                    1                    1                0\n",
              "1       0   59                    0                    1                0\n",
              "2       0   66                    0                    0                1\n",
              "3       0   83                    0                    1                0\n",
              "4       0   66                    0                    1                1"
            ],
            "text/html": [
              "\n",
              "  <div id=\"df-2cd61685-ffc3-423b-90ee-526ac836bd15\" class=\"colab-df-container\">\n",
              "    <div>\n",
              "<style scoped>\n",
              "    .dataframe tbody tr th:only-of-type {\n",
              "        vertical-align: middle;\n",
              "    }\n",
              "\n",
              "    .dataframe tbody tr th {\n",
              "        vertical-align: top;\n",
              "    }\n",
              "\n",
              "    .dataframe thead th {\n",
              "        text-align: right;\n",
              "    }\n",
              "</style>\n",
              "<table border=\"1\" class=\"dataframe\">\n",
              "  <thead>\n",
              "    <tr style=\"text-align: right;\">\n",
              "      <th></th>\n",
              "      <th>Gender</th>\n",
              "      <th>Age</th>\n",
              "      <th>Alcohol_Consumption</th>\n",
              "      <th>Survival_Prediction</th>\n",
              "      <th>Smoking_History</th>\n",
              "    </tr>\n",
              "  </thead>\n",
              "  <tbody>\n",
              "    <tr>\n",
              "      <th>0</th>\n",
              "      <td>0</td>\n",
              "      <td>77</td>\n",
              "      <td>1</td>\n",
              "      <td>1</td>\n",
              "      <td>0</td>\n",
              "    </tr>\n",
              "    <tr>\n",
              "      <th>1</th>\n",
              "      <td>0</td>\n",
              "      <td>59</td>\n",
              "      <td>0</td>\n",
              "      <td>1</td>\n",
              "      <td>0</td>\n",
              "    </tr>\n",
              "    <tr>\n",
              "      <th>2</th>\n",
              "      <td>0</td>\n",
              "      <td>66</td>\n",
              "      <td>0</td>\n",
              "      <td>0</td>\n",
              "      <td>1</td>\n",
              "    </tr>\n",
              "    <tr>\n",
              "      <th>3</th>\n",
              "      <td>0</td>\n",
              "      <td>83</td>\n",
              "      <td>0</td>\n",
              "      <td>1</td>\n",
              "      <td>0</td>\n",
              "    </tr>\n",
              "    <tr>\n",
              "      <th>4</th>\n",
              "      <td>0</td>\n",
              "      <td>66</td>\n",
              "      <td>0</td>\n",
              "      <td>1</td>\n",
              "      <td>1</td>\n",
              "    </tr>\n",
              "  </tbody>\n",
              "</table>\n",
              "</div>\n",
              "    <div class=\"colab-df-buttons\">\n",
              "\n",
              "  <div class=\"colab-df-container\">\n",
              "    <button class=\"colab-df-convert\" onclick=\"convertToInteractive('df-2cd61685-ffc3-423b-90ee-526ac836bd15')\"\n",
              "            title=\"Convert this dataframe to an interactive table.\"\n",
              "            style=\"display:none;\">\n",
              "\n",
              "  <svg xmlns=\"http://www.w3.org/2000/svg\" height=\"24px\" viewBox=\"0 -960 960 960\">\n",
              "    <path d=\"M120-120v-720h720v720H120Zm60-500h600v-160H180v160Zm220 220h160v-160H400v160Zm0 220h160v-160H400v160ZM180-400h160v-160H180v160Zm440 0h160v-160H620v160ZM180-180h160v-160H180v160Zm440 0h160v-160H620v160Z\"/>\n",
              "  </svg>\n",
              "    </button>\n",
              "\n",
              "  <style>\n",
              "    .colab-df-container {\n",
              "      display:flex;\n",
              "      gap: 12px;\n",
              "    }\n",
              "\n",
              "    .colab-df-convert {\n",
              "      background-color: #E8F0FE;\n",
              "      border: none;\n",
              "      border-radius: 50%;\n",
              "      cursor: pointer;\n",
              "      display: none;\n",
              "      fill: #1967D2;\n",
              "      height: 32px;\n",
              "      padding: 0 0 0 0;\n",
              "      width: 32px;\n",
              "    }\n",
              "\n",
              "    .colab-df-convert:hover {\n",
              "      background-color: #E2EBFA;\n",
              "      box-shadow: 0px 1px 2px rgba(60, 64, 67, 0.3), 0px 1px 3px 1px rgba(60, 64, 67, 0.15);\n",
              "      fill: #174EA6;\n",
              "    }\n",
              "\n",
              "    .colab-df-buttons div {\n",
              "      margin-bottom: 4px;\n",
              "    }\n",
              "\n",
              "    [theme=dark] .colab-df-convert {\n",
              "      background-color: #3B4455;\n",
              "      fill: #D2E3FC;\n",
              "    }\n",
              "\n",
              "    [theme=dark] .colab-df-convert:hover {\n",
              "      background-color: #434B5C;\n",
              "      box-shadow: 0px 1px 3px 1px rgba(0, 0, 0, 0.15);\n",
              "      filter: drop-shadow(0px 1px 2px rgba(0, 0, 0, 0.3));\n",
              "      fill: #FFFFFF;\n",
              "    }\n",
              "  </style>\n",
              "\n",
              "    <script>\n",
              "      const buttonEl =\n",
              "        document.querySelector('#df-2cd61685-ffc3-423b-90ee-526ac836bd15 button.colab-df-convert');\n",
              "      buttonEl.style.display =\n",
              "        google.colab.kernel.accessAllowed ? 'block' : 'none';\n",
              "\n",
              "      async function convertToInteractive(key) {\n",
              "        const element = document.querySelector('#df-2cd61685-ffc3-423b-90ee-526ac836bd15');\n",
              "        const dataTable =\n",
              "          await google.colab.kernel.invokeFunction('convertToInteractive',\n",
              "                                                    [key], {});\n",
              "        if (!dataTable) return;\n",
              "\n",
              "        const docLinkHtml = 'Like what you see? Visit the ' +\n",
              "          '<a target=\"_blank\" href=https://colab.research.google.com/notebooks/data_table.ipynb>data table notebook</a>'\n",
              "          + ' to learn more about interactive tables.';\n",
              "        element.innerHTML = '';\n",
              "        dataTable['output_type'] = 'display_data';\n",
              "        await google.colab.output.renderOutput(dataTable, element);\n",
              "        const docLink = document.createElement('div');\n",
              "        docLink.innerHTML = docLinkHtml;\n",
              "        element.appendChild(docLink);\n",
              "      }\n",
              "    </script>\n",
              "  </div>\n",
              "\n",
              "\n",
              "<div id=\"df-ada7bb6c-be60-440d-9377-614fd1de693e\">\n",
              "  <button class=\"colab-df-quickchart\" onclick=\"quickchart('df-ada7bb6c-be60-440d-9377-614fd1de693e')\"\n",
              "            title=\"Suggest charts\"\n",
              "            style=\"display:none;\">\n",
              "\n",
              "<svg xmlns=\"http://www.w3.org/2000/svg\" height=\"24px\"viewBox=\"0 0 24 24\"\n",
              "     width=\"24px\">\n",
              "    <g>\n",
              "        <path d=\"M19 3H5c-1.1 0-2 .9-2 2v14c0 1.1.9 2 2 2h14c1.1 0 2-.9 2-2V5c0-1.1-.9-2-2-2zM9 17H7v-7h2v7zm4 0h-2V7h2v10zm4 0h-2v-4h2v4z\"/>\n",
              "    </g>\n",
              "</svg>\n",
              "  </button>\n",
              "\n",
              "<style>\n",
              "  .colab-df-quickchart {\n",
              "      --bg-color: #E8F0FE;\n",
              "      --fill-color: #1967D2;\n",
              "      --hover-bg-color: #E2EBFA;\n",
              "      --hover-fill-color: #174EA6;\n",
              "      --disabled-fill-color: #AAA;\n",
              "      --disabled-bg-color: #DDD;\n",
              "  }\n",
              "\n",
              "  [theme=dark] .colab-df-quickchart {\n",
              "      --bg-color: #3B4455;\n",
              "      --fill-color: #D2E3FC;\n",
              "      --hover-bg-color: #434B5C;\n",
              "      --hover-fill-color: #FFFFFF;\n",
              "      --disabled-bg-color: #3B4455;\n",
              "      --disabled-fill-color: #666;\n",
              "  }\n",
              "\n",
              "  .colab-df-quickchart {\n",
              "    background-color: var(--bg-color);\n",
              "    border: none;\n",
              "    border-radius: 50%;\n",
              "    cursor: pointer;\n",
              "    display: none;\n",
              "    fill: var(--fill-color);\n",
              "    height: 32px;\n",
              "    padding: 0;\n",
              "    width: 32px;\n",
              "  }\n",
              "\n",
              "  .colab-df-quickchart:hover {\n",
              "    background-color: var(--hover-bg-color);\n",
              "    box-shadow: 0 1px 2px rgba(60, 64, 67, 0.3), 0 1px 3px 1px rgba(60, 64, 67, 0.15);\n",
              "    fill: var(--button-hover-fill-color);\n",
              "  }\n",
              "\n",
              "  .colab-df-quickchart-complete:disabled,\n",
              "  .colab-df-quickchart-complete:disabled:hover {\n",
              "    background-color: var(--disabled-bg-color);\n",
              "    fill: var(--disabled-fill-color);\n",
              "    box-shadow: none;\n",
              "  }\n",
              "\n",
              "  .colab-df-spinner {\n",
              "    border: 2px solid var(--fill-color);\n",
              "    border-color: transparent;\n",
              "    border-bottom-color: var(--fill-color);\n",
              "    animation:\n",
              "      spin 1s steps(1) infinite;\n",
              "  }\n",
              "\n",
              "  @keyframes spin {\n",
              "    0% {\n",
              "      border-color: transparent;\n",
              "      border-bottom-color: var(--fill-color);\n",
              "      border-left-color: var(--fill-color);\n",
              "    }\n",
              "    20% {\n",
              "      border-color: transparent;\n",
              "      border-left-color: var(--fill-color);\n",
              "      border-top-color: var(--fill-color);\n",
              "    }\n",
              "    30% {\n",
              "      border-color: transparent;\n",
              "      border-left-color: var(--fill-color);\n",
              "      border-top-color: var(--fill-color);\n",
              "      border-right-color: var(--fill-color);\n",
              "    }\n",
              "    40% {\n",
              "      border-color: transparent;\n",
              "      border-right-color: var(--fill-color);\n",
              "      border-top-color: var(--fill-color);\n",
              "    }\n",
              "    60% {\n",
              "      border-color: transparent;\n",
              "      border-right-color: var(--fill-color);\n",
              "    }\n",
              "    80% {\n",
              "      border-color: transparent;\n",
              "      border-right-color: var(--fill-color);\n",
              "      border-bottom-color: var(--fill-color);\n",
              "    }\n",
              "    90% {\n",
              "      border-color: transparent;\n",
              "      border-bottom-color: var(--fill-color);\n",
              "    }\n",
              "  }\n",
              "</style>\n",
              "\n",
              "  <script>\n",
              "    async function quickchart(key) {\n",
              "      const quickchartButtonEl =\n",
              "        document.querySelector('#' + key + ' button');\n",
              "      quickchartButtonEl.disabled = true;  // To prevent multiple clicks.\n",
              "      quickchartButtonEl.classList.add('colab-df-spinner');\n",
              "      try {\n",
              "        const charts = await google.colab.kernel.invokeFunction(\n",
              "            'suggestCharts', [key], {});\n",
              "      } catch (error) {\n",
              "        console.error('Error during call to suggestCharts:', error);\n",
              "      }\n",
              "      quickchartButtonEl.classList.remove('colab-df-spinner');\n",
              "      quickchartButtonEl.classList.add('colab-df-quickchart-complete');\n",
              "    }\n",
              "    (() => {\n",
              "      let quickchartButtonEl =\n",
              "        document.querySelector('#df-ada7bb6c-be60-440d-9377-614fd1de693e button');\n",
              "      quickchartButtonEl.style.display =\n",
              "        google.colab.kernel.accessAllowed ? 'block' : 'none';\n",
              "    })();\n",
              "  </script>\n",
              "</div>\n",
              "    </div>\n",
              "  </div>\n"
            ],
            "application/vnd.google.colaboratory.intrinsic+json": {
              "type": "dataframe",
              "variable_name": "cancer_cb"
            }
          },
          "metadata": {},
          "execution_count": 10
        }
      ],
      "source": [
        "cancer_cb = cancer[[ 'Gender','Age','Alcohol_Consumption','Survival_Prediction','Smoking_History']].dropna()\n",
        "cancer_cb.head()"
      ]
    },
    {
      "cell_type": "code",
      "execution_count": 11,
      "metadata": {
        "id": "uQROgndollQ3",
        "outputId": "da072473-0c2f-40e1-b159-82c40c555d35",
        "colab": {
          "base_uri": "https://localhost:8080/"
        }
      },
      "outputs": [
        {
          "output_type": "stream",
          "name": "stdout",
          "text": [
            "        Gender  Alcohol_Consumption  Smoking_History\n",
            "0            0                    1                0\n",
            "1            0                    0                0\n",
            "2            0                    0                1\n",
            "3            0                    0                0\n",
            "4            0                    0                1\n",
            "...        ...                  ...              ...\n",
            "167492       0                    0                1\n",
            "167493       1                    1                1\n",
            "167494       0                    1                1\n",
            "167495       1                    1                1\n",
            "167496       1                    0                0\n",
            "\n",
            "[167497 rows x 3 columns]\n"
          ]
        }
      ],
      "source": [
        "X = cancer_cb.drop(['Survival_Prediction','Age'],axis=1)\n",
        "Y = cancer_cb['Survival_Prediction']\n",
        "print(X)"
      ]
    },
    {
      "cell_type": "code",
      "execution_count": 12,
      "metadata": {
        "id": "GDqYOZMx-62k",
        "outputId": "5e9389e3-1a20-4fcb-9216-779b24898b3c",
        "colab": {
          "base_uri": "https://localhost:8080/"
        }
      },
      "outputs": [
        {
          "output_type": "stream",
          "name": "stdout",
          "text": [
            "        Gender  Alcohol_Consumption  Smoking_History\n",
            "150597       1                    0                0\n",
            "116629       0                    0                0\n",
            "10289        0                    0                1\n",
            "97944        0                    1                0\n",
            "122402       0                    1                1\n",
            "...        ...                  ...              ...\n",
            "146449       0                    0                0\n",
            "119906       1                    1                1\n",
            "17730        1                    1                1\n",
            "28030        0                    0                1\n",
            "15725        0                    0                0\n",
            "\n",
            "[133997 rows x 3 columns]\n"
          ]
        }
      ],
      "source": [
        "# разбиение на обучающую и тестовую выборки\n",
        "X_train, X_test, Y_train, Y_test = train_test_split(X, Y, test_size=0.2, random_state=123)\n",
        "print(X_train)"
      ]
    },
    {
      "cell_type": "code",
      "execution_count": 13,
      "metadata": {
        "colab": {
          "base_uri": "https://localhost:8080/"
        },
        "id": "ZfL0tx1CllQ4",
        "outputId": "7d9300d9-004a-416a-d853-641d7965c62d"
      },
      "outputs": [
        {
          "output_type": "execute_result",
          "data": {
            "text/plain": [
              "[]"
            ]
          },
          "metadata": {},
          "execution_count": 13
        }
      ],
      "source": [
        "#выявим категориальные признаки\n",
        "cat_features = X.select_dtypes(include=['object']).columns.tolist()\n",
        "cat_features\n"
      ]
    },
    {
      "cell_type": "code",
      "execution_count": 14,
      "metadata": {
        "colab": {
          "base_uri": "https://localhost:8080/"
        },
        "id": "KOMTZBzxllQ4",
        "outputId": "e443be89-5626-4558-af2a-c17b09fefb68"
      },
      "outputs": [
        {
          "output_type": "stream",
          "name": "stdout",
          "text": [
            "['Gender', 'Alcohol_Consumption', 'Smoking_History']\n"
          ]
        }
      ],
      "source": [
        "#укажем набор категориальных признаков сами\n",
        "cat_features = ['Gender','Alcohol_Consumption','Smoking_History']\n",
        "print (cat_features)"
      ]
    },
    {
      "cell_type": "code",
      "execution_count": 15,
      "metadata": {
        "colab": {
          "base_uri": "https://localhost:8080/"
        },
        "id": "xGrs_q-NllQ5",
        "outputId": "a8fff6f2-cf40-4039-deb7-e1aeb058ebdf"
      },
      "outputs": [
        {
          "output_type": "stream",
          "name": "stdout",
          "text": [
            "        Gender  Alcohol_Consumption  Smoking_History\n",
            "0            0                    1                0\n",
            "1            0                    0                0\n",
            "2            0                    0                1\n",
            "3            0                    0                0\n",
            "4            0                    0                1\n",
            "...        ...                  ...              ...\n",
            "167492       0                    0                1\n",
            "167493       1                    1                1\n",
            "167494       0                    1                1\n",
            "167495       1                    1                1\n",
            "167496       1                    0                0\n",
            "\n",
            "[167497 rows x 3 columns]\n"
          ]
        }
      ],
      "source": [
        "model = CatBoostClassifier(iterations=100, depth=8, learning_rate=0.1, cat_features=cat_features,\n",
        "                           loss_function='Logloss', custom_metric=['Accuracy'], random_seed=42)\n",
        "print(X)\n"
      ]
    },
    {
      "cell_type": "code",
      "execution_count": 16,
      "metadata": {
        "colab": {
          "base_uri": "https://localhost:8080/",
          "height": 1000,
          "referenced_widgets": [
            "e287461ada2f4c21bf2b656a5146c9e5"
          ]
        },
        "id": "UE5Hjdy-llQ6",
        "outputId": "97ac9986-5208-418f-df14-cbd5d6befc74"
      },
      "outputs": [
        {
          "output_type": "display_data",
          "data": {
            "text/plain": [
              "MetricVisualizer(layout=Layout(align_self='stretch', height='500px'))"
            ],
            "application/vnd.jupyter.widget-view+json": {
              "version_major": 2,
              "version_minor": 0,
              "model_id": "e287461ada2f4c21bf2b656a5146c9e5"
            }
          },
          "metadata": {}
        },
        {
          "output_type": "stream",
          "name": "stdout",
          "text": [
            "0:\tlearn: 0.6893960\ttotal: 63.8ms\tremaining: 6.31s\n",
            "1:\tlearn: 0.6863572\ttotal: 76.7ms\tremaining: 3.76s\n",
            "2:\tlearn: 0.6838932\ttotal: 88ms\tremaining: 2.85s\n",
            "3:\tlearn: 0.6818941\ttotal: 99.5ms\tremaining: 2.39s\n",
            "4:\tlearn: 0.6802694\ttotal: 112ms\tremaining: 2.13s\n",
            "5:\tlearn: 0.6789515\ttotal: 125ms\tremaining: 1.95s\n",
            "6:\tlearn: 0.6778803\ttotal: 137ms\tremaining: 1.82s\n",
            "7:\tlearn: 0.6770117\ttotal: 148ms\tremaining: 1.71s\n",
            "8:\tlearn: 0.6763066\ttotal: 160ms\tremaining: 1.61s\n",
            "9:\tlearn: 0.6757340\ttotal: 173ms\tremaining: 1.56s\n",
            "10:\tlearn: 0.6752691\ttotal: 185ms\tremaining: 1.5s\n",
            "11:\tlearn: 0.6748918\ttotal: 197ms\tremaining: 1.44s\n",
            "12:\tlearn: 0.6745854\ttotal: 209ms\tremaining: 1.4s\n",
            "13:\tlearn: 0.6743368\ttotal: 222ms\tremaining: 1.36s\n",
            "14:\tlearn: 0.6741350\ttotal: 234ms\tremaining: 1.33s\n",
            "15:\tlearn: 0.6739713\ttotal: 246ms\tremaining: 1.29s\n",
            "16:\tlearn: 0.6738363\ttotal: 259ms\tremaining: 1.26s\n",
            "17:\tlearn: 0.6737281\ttotal: 274ms\tremaining: 1.25s\n",
            "18:\tlearn: 0.6736407\ttotal: 289ms\tremaining: 1.23s\n",
            "19:\tlearn: 0.6735698\ttotal: 306ms\tremaining: 1.22s\n",
            "20:\tlearn: 0.6735123\ttotal: 318ms\tremaining: 1.2s\n",
            "21:\tlearn: 0.6734639\ttotal: 332ms\tremaining: 1.18s\n",
            "22:\tlearn: 0.6734258\ttotal: 346ms\tremaining: 1.16s\n",
            "23:\tlearn: 0.6733943\ttotal: 358ms\tremaining: 1.13s\n",
            "24:\tlearn: 0.6733683\ttotal: 372ms\tremaining: 1.11s\n",
            "25:\tlearn: 0.6733472\ttotal: 386ms\tremaining: 1.1s\n",
            "26:\tlearn: 0.6733308\ttotal: 398ms\tremaining: 1.08s\n",
            "27:\tlearn: 0.6733176\ttotal: 411ms\tremaining: 1.05s\n",
            "28:\tlearn: 0.6733068\ttotal: 423ms\tremaining: 1.04s\n",
            "29:\tlearn: 0.6732973\ttotal: 437ms\tremaining: 1.02s\n",
            "30:\tlearn: 0.6732899\ttotal: 449ms\tremaining: 1s\n",
            "31:\tlearn: 0.6732841\ttotal: 462ms\tremaining: 981ms\n",
            "32:\tlearn: 0.6732791\ttotal: 480ms\tremaining: 975ms\n",
            "33:\tlearn: 0.6732754\ttotal: 493ms\tremaining: 956ms\n",
            "34:\tlearn: 0.6732719\ttotal: 506ms\tremaining: 940ms\n",
            "35:\tlearn: 0.6732694\ttotal: 519ms\tremaining: 922ms\n",
            "36:\tlearn: 0.6732674\ttotal: 530ms\tremaining: 903ms\n",
            "37:\tlearn: 0.6732654\ttotal: 544ms\tremaining: 888ms\n",
            "38:\tlearn: 0.6732640\ttotal: 557ms\tremaining: 871ms\n",
            "39:\tlearn: 0.6732629\ttotal: 569ms\tremaining: 854ms\n",
            "40:\tlearn: 0.6732620\ttotal: 581ms\tremaining: 836ms\n",
            "41:\tlearn: 0.6732613\ttotal: 594ms\tremaining: 820ms\n",
            "42:\tlearn: 0.6732605\ttotal: 608ms\tremaining: 806ms\n",
            "43:\tlearn: 0.6732600\ttotal: 627ms\tremaining: 797ms\n",
            "44:\tlearn: 0.6732596\ttotal: 645ms\tremaining: 788ms\n",
            "45:\tlearn: 0.6732591\ttotal: 661ms\tremaining: 776ms\n",
            "46:\tlearn: 0.6732588\ttotal: 675ms\tremaining: 761ms\n",
            "47:\tlearn: 0.6732586\ttotal: 688ms\tremaining: 746ms\n",
            "48:\tlearn: 0.6732583\ttotal: 701ms\tremaining: 730ms\n",
            "49:\tlearn: 0.6732581\ttotal: 715ms\tremaining: 715ms\n",
            "50:\tlearn: 0.6732580\ttotal: 726ms\tremaining: 698ms\n",
            "51:\tlearn: 0.6732579\ttotal: 739ms\tremaining: 682ms\n",
            "52:\tlearn: 0.6732579\ttotal: 750ms\tremaining: 665ms\n",
            "53:\tlearn: 0.6732578\ttotal: 764ms\tremaining: 650ms\n",
            "54:\tlearn: 0.6732577\ttotal: 777ms\tremaining: 635ms\n",
            "55:\tlearn: 0.6732575\ttotal: 792ms\tremaining: 622ms\n",
            "56:\tlearn: 0.6732574\ttotal: 806ms\tremaining: 608ms\n",
            "57:\tlearn: 0.6732573\ttotal: 820ms\tremaining: 593ms\n",
            "58:\tlearn: 0.6732572\ttotal: 833ms\tremaining: 579ms\n",
            "59:\tlearn: 0.6732571\ttotal: 847ms\tremaining: 565ms\n",
            "60:\tlearn: 0.6732571\ttotal: 863ms\tremaining: 552ms\n",
            "61:\tlearn: 0.6732571\ttotal: 878ms\tremaining: 538ms\n",
            "62:\tlearn: 0.6732571\ttotal: 894ms\tremaining: 525ms\n",
            "63:\tlearn: 0.6732571\ttotal: 907ms\tremaining: 510ms\n",
            "64:\tlearn: 0.6732570\ttotal: 921ms\tremaining: 496ms\n",
            "65:\tlearn: 0.6732570\ttotal: 941ms\tremaining: 485ms\n",
            "66:\tlearn: 0.6732570\ttotal: 954ms\tremaining: 470ms\n",
            "67:\tlearn: 0.6732570\ttotal: 968ms\tremaining: 456ms\n",
            "68:\tlearn: 0.6732570\ttotal: 980ms\tremaining: 440ms\n",
            "69:\tlearn: 0.6732569\ttotal: 994ms\tremaining: 426ms\n",
            "70:\tlearn: 0.6732569\ttotal: 1.01s\tremaining: 412ms\n",
            "71:\tlearn: 0.6732569\ttotal: 1.02s\tremaining: 397ms\n",
            "72:\tlearn: 0.6732569\ttotal: 1.03s\tremaining: 383ms\n",
            "73:\tlearn: 0.6732569\ttotal: 1.05s\tremaining: 368ms\n",
            "74:\tlearn: 0.6732569\ttotal: 1.06s\tremaining: 354ms\n",
            "75:\tlearn: 0.6732569\ttotal: 1.07s\tremaining: 339ms\n",
            "76:\tlearn: 0.6732569\ttotal: 1.09s\tremaining: 325ms\n",
            "77:\tlearn: 0.6732569\ttotal: 1.1s\tremaining: 311ms\n",
            "78:\tlearn: 0.6732569\ttotal: 1.11s\tremaining: 297ms\n",
            "79:\tlearn: 0.6732569\ttotal: 1.13s\tremaining: 282ms\n",
            "80:\tlearn: 0.6732569\ttotal: 1.14s\tremaining: 268ms\n",
            "81:\tlearn: 0.6732569\ttotal: 1.16s\tremaining: 254ms\n",
            "82:\tlearn: 0.6732569\ttotal: 1.17s\tremaining: 239ms\n",
            "83:\tlearn: 0.6732569\ttotal: 1.18s\tremaining: 225ms\n",
            "84:\tlearn: 0.6732569\ttotal: 1.19s\tremaining: 211ms\n",
            "85:\tlearn: 0.6732569\ttotal: 1.21s\tremaining: 196ms\n",
            "86:\tlearn: 0.6732569\ttotal: 1.22s\tremaining: 182ms\n",
            "87:\tlearn: 0.6732569\ttotal: 1.23s\tremaining: 168ms\n",
            "88:\tlearn: 0.6732569\ttotal: 1.25s\tremaining: 154ms\n",
            "89:\tlearn: 0.6732569\ttotal: 1.26s\tremaining: 140ms\n",
            "90:\tlearn: 0.6732569\ttotal: 1.27s\tremaining: 126ms\n",
            "91:\tlearn: 0.6732569\ttotal: 1.29s\tremaining: 112ms\n",
            "92:\tlearn: 0.6732569\ttotal: 1.3s\tremaining: 98.2ms\n",
            "93:\tlearn: 0.6732569\ttotal: 1.32s\tremaining: 84.1ms\n",
            "94:\tlearn: 0.6732569\ttotal: 1.33s\tremaining: 70.2ms\n",
            "95:\tlearn: 0.6732569\ttotal: 1.34s\tremaining: 56ms\n",
            "96:\tlearn: 0.6732569\ttotal: 1.36s\tremaining: 42.2ms\n",
            "97:\tlearn: 0.6732569\ttotal: 1.38s\tremaining: 28.1ms\n",
            "98:\tlearn: 0.6732569\ttotal: 1.39s\tremaining: 14ms\n",
            "99:\tlearn: 0.6732569\ttotal: 1.4s\tremaining: 0us\n"
          ]
        },
        {
          "output_type": "execute_result",
          "data": {
            "text/plain": [
              "<catboost.core.CatBoostClassifier at 0x7b1ff866e7d0>"
            ]
          },
          "metadata": {},
          "execution_count": 16
        }
      ],
      "source": [
        "model.fit(X_train, Y_train, verbose=True, plot=True)\n"
      ]
    },
    {
      "cell_type": "code",
      "execution_count": 17,
      "metadata": {
        "colab": {
          "base_uri": "https://localhost:8080/",
          "height": 143
        },
        "id": "BlgnMy5rllQ7",
        "outputId": "611ac13c-0d29-4928-a661-be9546438ec2"
      },
      "outputs": [
        {
          "output_type": "execute_result",
          "data": {
            "text/plain": [
              "            Feature Id  Importances\n",
              "0  Alcohol_Consumption    45.674036\n",
              "1      Smoking_History    37.794593\n",
              "2               Gender    16.531371"
            ],
            "text/html": [
              "\n",
              "  <div id=\"df-68365504-641d-4773-befc-c6ad838f4697\" class=\"colab-df-container\">\n",
              "    <div>\n",
              "<style scoped>\n",
              "    .dataframe tbody tr th:only-of-type {\n",
              "        vertical-align: middle;\n",
              "    }\n",
              "\n",
              "    .dataframe tbody tr th {\n",
              "        vertical-align: top;\n",
              "    }\n",
              "\n",
              "    .dataframe thead th {\n",
              "        text-align: right;\n",
              "    }\n",
              "</style>\n",
              "<table border=\"1\" class=\"dataframe\">\n",
              "  <thead>\n",
              "    <tr style=\"text-align: right;\">\n",
              "      <th></th>\n",
              "      <th>Feature Id</th>\n",
              "      <th>Importances</th>\n",
              "    </tr>\n",
              "  </thead>\n",
              "  <tbody>\n",
              "    <tr>\n",
              "      <th>0</th>\n",
              "      <td>Alcohol_Consumption</td>\n",
              "      <td>45.674036</td>\n",
              "    </tr>\n",
              "    <tr>\n",
              "      <th>1</th>\n",
              "      <td>Smoking_History</td>\n",
              "      <td>37.794593</td>\n",
              "    </tr>\n",
              "    <tr>\n",
              "      <th>2</th>\n",
              "      <td>Gender</td>\n",
              "      <td>16.531371</td>\n",
              "    </tr>\n",
              "  </tbody>\n",
              "</table>\n",
              "</div>\n",
              "    <div class=\"colab-df-buttons\">\n",
              "\n",
              "  <div class=\"colab-df-container\">\n",
              "    <button class=\"colab-df-convert\" onclick=\"convertToInteractive('df-68365504-641d-4773-befc-c6ad838f4697')\"\n",
              "            title=\"Convert this dataframe to an interactive table.\"\n",
              "            style=\"display:none;\">\n",
              "\n",
              "  <svg xmlns=\"http://www.w3.org/2000/svg\" height=\"24px\" viewBox=\"0 -960 960 960\">\n",
              "    <path d=\"M120-120v-720h720v720H120Zm60-500h600v-160H180v160Zm220 220h160v-160H400v160Zm0 220h160v-160H400v160ZM180-400h160v-160H180v160Zm440 0h160v-160H620v160ZM180-180h160v-160H180v160Zm440 0h160v-160H620v160Z\"/>\n",
              "  </svg>\n",
              "    </button>\n",
              "\n",
              "  <style>\n",
              "    .colab-df-container {\n",
              "      display:flex;\n",
              "      gap: 12px;\n",
              "    }\n",
              "\n",
              "    .colab-df-convert {\n",
              "      background-color: #E8F0FE;\n",
              "      border: none;\n",
              "      border-radius: 50%;\n",
              "      cursor: pointer;\n",
              "      display: none;\n",
              "      fill: #1967D2;\n",
              "      height: 32px;\n",
              "      padding: 0 0 0 0;\n",
              "      width: 32px;\n",
              "    }\n",
              "\n",
              "    .colab-df-convert:hover {\n",
              "      background-color: #E2EBFA;\n",
              "      box-shadow: 0px 1px 2px rgba(60, 64, 67, 0.3), 0px 1px 3px 1px rgba(60, 64, 67, 0.15);\n",
              "      fill: #174EA6;\n",
              "    }\n",
              "\n",
              "    .colab-df-buttons div {\n",
              "      margin-bottom: 4px;\n",
              "    }\n",
              "\n",
              "    [theme=dark] .colab-df-convert {\n",
              "      background-color: #3B4455;\n",
              "      fill: #D2E3FC;\n",
              "    }\n",
              "\n",
              "    [theme=dark] .colab-df-convert:hover {\n",
              "      background-color: #434B5C;\n",
              "      box-shadow: 0px 1px 3px 1px rgba(0, 0, 0, 0.15);\n",
              "      filter: drop-shadow(0px 1px 2px rgba(0, 0, 0, 0.3));\n",
              "      fill: #FFFFFF;\n",
              "    }\n",
              "  </style>\n",
              "\n",
              "    <script>\n",
              "      const buttonEl =\n",
              "        document.querySelector('#df-68365504-641d-4773-befc-c6ad838f4697 button.colab-df-convert');\n",
              "      buttonEl.style.display =\n",
              "        google.colab.kernel.accessAllowed ? 'block' : 'none';\n",
              "\n",
              "      async function convertToInteractive(key) {\n",
              "        const element = document.querySelector('#df-68365504-641d-4773-befc-c6ad838f4697');\n",
              "        const dataTable =\n",
              "          await google.colab.kernel.invokeFunction('convertToInteractive',\n",
              "                                                    [key], {});\n",
              "        if (!dataTable) return;\n",
              "\n",
              "        const docLinkHtml = 'Like what you see? Visit the ' +\n",
              "          '<a target=\"_blank\" href=https://colab.research.google.com/notebooks/data_table.ipynb>data table notebook</a>'\n",
              "          + ' to learn more about interactive tables.';\n",
              "        element.innerHTML = '';\n",
              "        dataTable['output_type'] = 'display_data';\n",
              "        await google.colab.output.renderOutput(dataTable, element);\n",
              "        const docLink = document.createElement('div');\n",
              "        docLink.innerHTML = docLinkHtml;\n",
              "        element.appendChild(docLink);\n",
              "      }\n",
              "    </script>\n",
              "  </div>\n",
              "\n",
              "\n",
              "<div id=\"df-e9398dbd-c30c-460f-bcea-3eb544d83f7f\">\n",
              "  <button class=\"colab-df-quickchart\" onclick=\"quickchart('df-e9398dbd-c30c-460f-bcea-3eb544d83f7f')\"\n",
              "            title=\"Suggest charts\"\n",
              "            style=\"display:none;\">\n",
              "\n",
              "<svg xmlns=\"http://www.w3.org/2000/svg\" height=\"24px\"viewBox=\"0 0 24 24\"\n",
              "     width=\"24px\">\n",
              "    <g>\n",
              "        <path d=\"M19 3H5c-1.1 0-2 .9-2 2v14c0 1.1.9 2 2 2h14c1.1 0 2-.9 2-2V5c0-1.1-.9-2-2-2zM9 17H7v-7h2v7zm4 0h-2V7h2v10zm4 0h-2v-4h2v4z\"/>\n",
              "    </g>\n",
              "</svg>\n",
              "  </button>\n",
              "\n",
              "<style>\n",
              "  .colab-df-quickchart {\n",
              "      --bg-color: #E8F0FE;\n",
              "      --fill-color: #1967D2;\n",
              "      --hover-bg-color: #E2EBFA;\n",
              "      --hover-fill-color: #174EA6;\n",
              "      --disabled-fill-color: #AAA;\n",
              "      --disabled-bg-color: #DDD;\n",
              "  }\n",
              "\n",
              "  [theme=dark] .colab-df-quickchart {\n",
              "      --bg-color: #3B4455;\n",
              "      --fill-color: #D2E3FC;\n",
              "      --hover-bg-color: #434B5C;\n",
              "      --hover-fill-color: #FFFFFF;\n",
              "      --disabled-bg-color: #3B4455;\n",
              "      --disabled-fill-color: #666;\n",
              "  }\n",
              "\n",
              "  .colab-df-quickchart {\n",
              "    background-color: var(--bg-color);\n",
              "    border: none;\n",
              "    border-radius: 50%;\n",
              "    cursor: pointer;\n",
              "    display: none;\n",
              "    fill: var(--fill-color);\n",
              "    height: 32px;\n",
              "    padding: 0;\n",
              "    width: 32px;\n",
              "  }\n",
              "\n",
              "  .colab-df-quickchart:hover {\n",
              "    background-color: var(--hover-bg-color);\n",
              "    box-shadow: 0 1px 2px rgba(60, 64, 67, 0.3), 0 1px 3px 1px rgba(60, 64, 67, 0.15);\n",
              "    fill: var(--button-hover-fill-color);\n",
              "  }\n",
              "\n",
              "  .colab-df-quickchart-complete:disabled,\n",
              "  .colab-df-quickchart-complete:disabled:hover {\n",
              "    background-color: var(--disabled-bg-color);\n",
              "    fill: var(--disabled-fill-color);\n",
              "    box-shadow: none;\n",
              "  }\n",
              "\n",
              "  .colab-df-spinner {\n",
              "    border: 2px solid var(--fill-color);\n",
              "    border-color: transparent;\n",
              "    border-bottom-color: var(--fill-color);\n",
              "    animation:\n",
              "      spin 1s steps(1) infinite;\n",
              "  }\n",
              "\n",
              "  @keyframes spin {\n",
              "    0% {\n",
              "      border-color: transparent;\n",
              "      border-bottom-color: var(--fill-color);\n",
              "      border-left-color: var(--fill-color);\n",
              "    }\n",
              "    20% {\n",
              "      border-color: transparent;\n",
              "      border-left-color: var(--fill-color);\n",
              "      border-top-color: var(--fill-color);\n",
              "    }\n",
              "    30% {\n",
              "      border-color: transparent;\n",
              "      border-left-color: var(--fill-color);\n",
              "      border-top-color: var(--fill-color);\n",
              "      border-right-color: var(--fill-color);\n",
              "    }\n",
              "    40% {\n",
              "      border-color: transparent;\n",
              "      border-right-color: var(--fill-color);\n",
              "      border-top-color: var(--fill-color);\n",
              "    }\n",
              "    60% {\n",
              "      border-color: transparent;\n",
              "      border-right-color: var(--fill-color);\n",
              "    }\n",
              "    80% {\n",
              "      border-color: transparent;\n",
              "      border-right-color: var(--fill-color);\n",
              "      border-bottom-color: var(--fill-color);\n",
              "    }\n",
              "    90% {\n",
              "      border-color: transparent;\n",
              "      border-bottom-color: var(--fill-color);\n",
              "    }\n",
              "  }\n",
              "</style>\n",
              "\n",
              "  <script>\n",
              "    async function quickchart(key) {\n",
              "      const quickchartButtonEl =\n",
              "        document.querySelector('#' + key + ' button');\n",
              "      quickchartButtonEl.disabled = true;  // To prevent multiple clicks.\n",
              "      quickchartButtonEl.classList.add('colab-df-spinner');\n",
              "      try {\n",
              "        const charts = await google.colab.kernel.invokeFunction(\n",
              "            'suggestCharts', [key], {});\n",
              "      } catch (error) {\n",
              "        console.error('Error during call to suggestCharts:', error);\n",
              "      }\n",
              "      quickchartButtonEl.classList.remove('colab-df-spinner');\n",
              "      quickchartButtonEl.classList.add('colab-df-quickchart-complete');\n",
              "    }\n",
              "    (() => {\n",
              "      let quickchartButtonEl =\n",
              "        document.querySelector('#df-e9398dbd-c30c-460f-bcea-3eb544d83f7f button');\n",
              "      quickchartButtonEl.style.display =\n",
              "        google.colab.kernel.accessAllowed ? 'block' : 'none';\n",
              "    })();\n",
              "  </script>\n",
              "</div>\n",
              "    </div>\n",
              "  </div>\n"
            ],
            "application/vnd.google.colaboratory.intrinsic+json": {
              "type": "dataframe",
              "summary": "{\n  \"name\": \"model\",\n  \"rows\": 3,\n  \"fields\": [\n    {\n      \"column\": \"Feature Id\",\n      \"properties\": {\n        \"dtype\": \"string\",\n        \"num_unique_values\": 3,\n        \"samples\": [\n          \"Alcohol_Consumption\",\n          \"Smoking_History\",\n          \"Gender\"\n        ],\n        \"semantic_type\": \"\",\n        \"description\": \"\"\n      }\n    },\n    {\n      \"column\": \"Importances\",\n      \"properties\": {\n        \"dtype\": \"number\",\n        \"std\": 15.074841921940184,\n        \"min\": 16.53137088553035,\n        \"max\": 45.67403566391851,\n        \"num_unique_values\": 3,\n        \"samples\": [\n          45.67403566391851,\n          37.794593450551154,\n          16.53137088553035\n        ],\n        \"semantic_type\": \"\",\n        \"description\": \"\"\n      }\n    }\n  ]\n}"
            }
          },
          "metadata": {},
          "execution_count": 17
        }
      ],
      "source": [
        "model.get_feature_importance(prettified=True)"
      ]
    },
    {
      "cell_type": "code",
      "execution_count": 18,
      "metadata": {
        "colab": {
          "base_uri": "https://localhost:8080/",
          "height": 562
        },
        "id": "DqFih00RllQ8",
        "outputId": "260a8626-ac5c-487e-eae3-17ef665bb01c"
      },
      "outputs": [
        {
          "output_type": "execute_result",
          "data": {
            "text/plain": [
              "Text(0.5, 1.0, 'Feature Importance')"
            ]
          },
          "metadata": {},
          "execution_count": 18
        },
        {
          "output_type": "display_data",
          "data": {
            "text/plain": [
              "<Figure size 1200x600 with 1 Axes>"
            ],
            "image/png": "[encoded data removed]"
          },
          "metadata": {}
        }
      ],
      "source": [
        "feature_importance = model.feature_importances_\n",
        "sorted_idx = np.argsort(feature_importance)\n",
        "fig = plt.figure(figsize=(12, 6))\n",
        "plt.barh(range(len(sorted_idx)), feature_importance[sorted_idx], align='center')\n",
        "plt.yticks(range(len(sorted_idx)), np.array(X_test.columns)[sorted_idx])\n",
        "plt.title('Feature Importance')"
      ]
    },
    {
      "cell_type": "code",
      "execution_count": 19,
      "metadata": {
        "id": "sjQUjYbo-62l",
        "outputId": "a5791c87-d954-4122-dd36-1cedf0adba0d",
        "colab": {
          "base_uri": "https://localhost:8080/"
        }
      },
      "outputs": [
        {
          "output_type": "execute_result",
          "data": {
            "text/plain": [
              "(33500,)"
            ]
          },
          "metadata": {},
          "execution_count": 19
        }
      ],
      "source": [
        "class_predictions = model.predict(X_test)\n",
        "class_predictions.shape"
      ]
    },
    {
      "cell_type": "code",
      "execution_count": 20,
      "metadata": {
        "id": "40dJEgRK-62l",
        "outputId": "ad6f8574-f5a6-424b-d929-22f30221a20f",
        "colab": {
          "base_uri": "https://localhost:8080/"
        }
      },
      "outputs": [
        {
          "output_type": "stream",
          "name": "stdout",
          "text": [
            "Accuracy -  0.600865671641791\n",
            "Precision -  1.0\n",
            "Recall -  0.600865671641791\n"
          ]
        }
      ],
      "source": [
        "print('Accuracy - ',accuracy_score(class_predictions,Y_test))\n",
        "print('Precision - ',precision_score(class_predictions,Y_test))\n",
        "print('Recall - ',recall_score(class_predictions,Y_test))"
      ]
    },
    {
      "cell_type": "code",
      "execution_count": 21,
      "metadata": {
        "id": "KPSGombAllQ-"
      },
      "outputs": [],
      "source": [
        "#мдоель номер 2\n",
        "X_train, X_test, Y_train, Y_test = train_test_split(X, Y, test_size=0.3, random_state=123)"
      ]
    },
    {
      "cell_type": "code",
      "execution_count": 22,
      "metadata": {
        "id": "Av3d0wBgllQ_"
      },
      "outputs": [],
      "source": [
        "model2 = CatBoostClassifier(iterations=120, depth=12, learning_rate=0.3, cat_features=cat_features,\n",
        "                           loss_function='Logloss', custom_metric=['Accuracy'], random_seed=42)"
      ]
    },
    {
      "cell_type": "code",
      "execution_count": 23,
      "metadata": {
        "colab": {
          "base_uri": "https://localhost:8080/",
          "referenced_widgets": [
            "29677ab8983742ba9d8a474229d0aea7"
          ],
          "height": 1000
        },
        "id": "KjTWvn8bllRA",
        "outputId": "2efbdc5e-fce5-4494-bc12-ae903d627cc6"
      },
      "outputs": [
        {
          "output_type": "display_data",
          "data": {
            "text/plain": [
              "MetricVisualizer(layout=Layout(align_self='stretch', height='500px'))"
            ],
            "application/vnd.jupyter.widget-view+json": {
              "version_major": 2,
              "version_minor": 0,
              "model_id": "29677ab8983742ba9d8a474229d0aea7"
            }
          },
          "metadata": {}
        },
        {
          "output_type": "stream",
          "name": "stdout",
          "text": [
            "0:\tlearn: 0.6829427\ttotal: 11.7ms\tremaining: 1.39s\n",
            "1:\tlearn: 0.6779173\ttotal: 21.3ms\tremaining: 1.26s\n",
            "2:\tlearn: 0.6754208\ttotal: 32ms\tremaining: 1.25s\n",
            "3:\tlearn: 0.6741897\ttotal: 41.2ms\tremaining: 1.19s\n",
            "4:\tlearn: 0.6735758\ttotal: 52.2ms\tremaining: 1.2s\n",
            "5:\tlearn: 0.6732744\ttotal: 61.9ms\tremaining: 1.18s\n",
            "6:\tlearn: 0.6731259\ttotal: 71ms\tremaining: 1.15s\n",
            "7:\tlearn: 0.6730511\ttotal: 81.2ms\tremaining: 1.14s\n",
            "8:\tlearn: 0.6730152\ttotal: 90.8ms\tremaining: 1.12s\n",
            "9:\tlearn: 0.6729974\ttotal: 99.8ms\tremaining: 1.1s\n",
            "10:\tlearn: 0.6729879\ttotal: 110ms\tremaining: 1.09s\n",
            "11:\tlearn: 0.6729836\ttotal: 120ms\tremaining: 1.08s\n",
            "12:\tlearn: 0.6729811\ttotal: 131ms\tremaining: 1.08s\n",
            "13:\tlearn: 0.6729801\ttotal: 140ms\tremaining: 1.06s\n",
            "14:\tlearn: 0.6729795\ttotal: 151ms\tremaining: 1.05s\n",
            "15:\tlearn: 0.6729791\ttotal: 161ms\tremaining: 1.05s\n",
            "16:\tlearn: 0.6729789\ttotal: 172ms\tremaining: 1.04s\n",
            "17:\tlearn: 0.6729789\ttotal: 183ms\tremaining: 1.04s\n",
            "18:\tlearn: 0.6729788\ttotal: 195ms\tremaining: 1.04s\n",
            "19:\tlearn: 0.6729788\ttotal: 206ms\tremaining: 1.03s\n",
            "20:\tlearn: 0.6729788\ttotal: 217ms\tremaining: 1.02s\n",
            "21:\tlearn: 0.6729788\ttotal: 228ms\tremaining: 1.01s\n",
            "22:\tlearn: 0.6729788\ttotal: 238ms\tremaining: 1s\n",
            "23:\tlearn: 0.6729788\ttotal: 247ms\tremaining: 989ms\n",
            "24:\tlearn: 0.6729788\ttotal: 257ms\tremaining: 976ms\n",
            "25:\tlearn: 0.6729788\ttotal: 266ms\tremaining: 963ms\n",
            "26:\tlearn: 0.6729788\ttotal: 276ms\tremaining: 951ms\n",
            "27:\tlearn: 0.6729788\ttotal: 286ms\tremaining: 941ms\n",
            "28:\tlearn: 0.6729788\ttotal: 297ms\tremaining: 932ms\n",
            "29:\tlearn: 0.6729788\ttotal: 308ms\tremaining: 923ms\n",
            "30:\tlearn: 0.6729788\ttotal: 319ms\tremaining: 915ms\n",
            "31:\tlearn: 0.6729788\ttotal: 328ms\tremaining: 902ms\n",
            "32:\tlearn: 0.6729788\ttotal: 338ms\tremaining: 891ms\n",
            "33:\tlearn: 0.6729788\ttotal: 351ms\tremaining: 889ms\n",
            "34:\tlearn: 0.6729788\ttotal: 362ms\tremaining: 879ms\n",
            "35:\tlearn: 0.6729788\ttotal: 372ms\tremaining: 868ms\n",
            "36:\tlearn: 0.6729788\ttotal: 382ms\tremaining: 858ms\n",
            "37:\tlearn: 0.6729788\ttotal: 392ms\tremaining: 846ms\n",
            "38:\tlearn: 0.6729788\ttotal: 403ms\tremaining: 836ms\n",
            "39:\tlearn: 0.6729788\ttotal: 413ms\tremaining: 826ms\n",
            "40:\tlearn: 0.6729788\ttotal: 425ms\tremaining: 819ms\n",
            "41:\tlearn: 0.6729788\ttotal: 436ms\tremaining: 809ms\n",
            "42:\tlearn: 0.6729788\ttotal: 446ms\tremaining: 799ms\n",
            "43:\tlearn: 0.6729788\ttotal: 460ms\tremaining: 794ms\n",
            "44:\tlearn: 0.6729788\ttotal: 470ms\tremaining: 784ms\n",
            "45:\tlearn: 0.6729788\ttotal: 481ms\tremaining: 774ms\n",
            "46:\tlearn: 0.6729788\ttotal: 490ms\tremaining: 762ms\n",
            "47:\tlearn: 0.6729788\ttotal: 514ms\tremaining: 771ms\n",
            "48:\tlearn: 0.6729788\ttotal: 546ms\tremaining: 791ms\n",
            "49:\tlearn: 0.6729788\ttotal: 573ms\tremaining: 803ms\n",
            "50:\tlearn: 0.6729788\ttotal: 604ms\tremaining: 817ms\n",
            "51:\tlearn: 0.6729788\ttotal: 651ms\tremaining: 852ms\n",
            "52:\tlearn: 0.6729788\ttotal: 685ms\tremaining: 866ms\n",
            "53:\tlearn: 0.6729788\ttotal: 735ms\tremaining: 898ms\n",
            "54:\tlearn: 0.6729788\ttotal: 776ms\tremaining: 917ms\n",
            "55:\tlearn: 0.6729788\ttotal: 817ms\tremaining: 934ms\n",
            "56:\tlearn: 0.6729788\ttotal: 839ms\tremaining: 927ms\n",
            "57:\tlearn: 0.6729788\ttotal: 857ms\tremaining: 917ms\n",
            "58:\tlearn: 0.6729788\ttotal: 882ms\tremaining: 912ms\n",
            "59:\tlearn: 0.6729788\ttotal: 914ms\tremaining: 914ms\n",
            "60:\tlearn: 0.6729788\ttotal: 951ms\tremaining: 920ms\n",
            "61:\tlearn: 0.6729788\ttotal: 1s\tremaining: 937ms\n",
            "62:\tlearn: 0.6729788\ttotal: 1.06s\tremaining: 957ms\n",
            "63:\tlearn: 0.6729788\ttotal: 1.12s\tremaining: 980ms\n",
            "64:\tlearn: 0.6729788\ttotal: 1.18s\tremaining: 1s\n",
            "65:\tlearn: 0.6729788\ttotal: 1.21s\tremaining: 988ms\n",
            "66:\tlearn: 0.6729788\ttotal: 1.23s\tremaining: 977ms\n",
            "67:\tlearn: 0.6729788\ttotal: 1.26s\tremaining: 967ms\n",
            "68:\tlearn: 0.6729788\ttotal: 1.31s\tremaining: 968ms\n",
            "69:\tlearn: 0.6729788\ttotal: 1.34s\tremaining: 957ms\n",
            "70:\tlearn: 0.6729788\ttotal: 1.38s\tremaining: 950ms\n",
            "71:\tlearn: 0.6729788\ttotal: 1.43s\tremaining: 951ms\n",
            "72:\tlearn: 0.6729788\ttotal: 1.5s\tremaining: 965ms\n",
            "73:\tlearn: 0.6729788\ttotal: 1.53s\tremaining: 954ms\n",
            "74:\tlearn: 0.6729788\ttotal: 1.56s\tremaining: 936ms\n",
            "75:\tlearn: 0.6729788\ttotal: 1.59s\tremaining: 920ms\n",
            "76:\tlearn: 0.6729788\ttotal: 1.61s\tremaining: 902ms\n",
            "77:\tlearn: 0.6729788\ttotal: 1.65s\tremaining: 891ms\n",
            "78:\tlearn: 0.6729788\ttotal: 1.72s\tremaining: 892ms\n",
            "79:\tlearn: 0.6729788\ttotal: 1.75s\tremaining: 878ms\n",
            "80:\tlearn: 0.6729788\ttotal: 1.83s\tremaining: 879ms\n",
            "81:\tlearn: 0.6729788\ttotal: 1.9s\tremaining: 883ms\n",
            "82:\tlearn: 0.6729788\ttotal: 1.99s\tremaining: 886ms\n",
            "83:\tlearn: 0.6729788\ttotal: 2.06s\tremaining: 881ms\n",
            "84:\tlearn: 0.6729788\ttotal: 2.1s\tremaining: 865ms\n",
            "85:\tlearn: 0.6729788\ttotal: 2.16s\tremaining: 854ms\n",
            "86:\tlearn: 0.6729788\ttotal: 2.2s\tremaining: 834ms\n",
            "87:\tlearn: 0.6729788\ttotal: 2.23s\tremaining: 812ms\n",
            "88:\tlearn: 0.6729788\ttotal: 2.28s\tremaining: 795ms\n",
            "89:\tlearn: 0.6729788\ttotal: 2.32s\tremaining: 773ms\n",
            "90:\tlearn: 0.6729788\ttotal: 2.35s\tremaining: 750ms\n",
            "91:\tlearn: 0.6729788\ttotal: 2.38s\tremaining: 725ms\n",
            "92:\tlearn: 0.6729788\ttotal: 2.41s\tremaining: 700ms\n",
            "93:\tlearn: 0.6729788\ttotal: 2.46s\tremaining: 681ms\n",
            "94:\tlearn: 0.6729788\ttotal: 2.49s\tremaining: 657ms\n",
            "95:\tlearn: 0.6729788\ttotal: 2.53s\tremaining: 632ms\n",
            "96:\tlearn: 0.6729788\ttotal: 2.56s\tremaining: 608ms\n",
            "97:\tlearn: 0.6729788\ttotal: 2.6s\tremaining: 585ms\n",
            "98:\tlearn: 0.6729788\ttotal: 2.65s\tremaining: 562ms\n",
            "99:\tlearn: 0.6729788\ttotal: 2.69s\tremaining: 537ms\n",
            "100:\tlearn: 0.6729788\ttotal: 2.72s\tremaining: 512ms\n",
            "101:\tlearn: 0.6729788\ttotal: 2.76s\tremaining: 487ms\n",
            "102:\tlearn: 0.6729788\ttotal: 2.79s\tremaining: 461ms\n",
            "103:\tlearn: 0.6729788\ttotal: 2.84s\tremaining: 437ms\n",
            "104:\tlearn: 0.6729788\ttotal: 2.89s\tremaining: 413ms\n",
            "105:\tlearn: 0.6729788\ttotal: 2.96s\tremaining: 391ms\n",
            "106:\tlearn: 0.6729788\ttotal: 3.02s\tremaining: 368ms\n",
            "107:\tlearn: 0.6729788\ttotal: 3.06s\tremaining: 340ms\n",
            "108:\tlearn: 0.6729788\ttotal: 3.15s\tremaining: 317ms\n",
            "109:\tlearn: 0.6729788\ttotal: 3.2s\tremaining: 291ms\n",
            "110:\tlearn: 0.6729788\ttotal: 3.23s\tremaining: 262ms\n",
            "111:\tlearn: 0.6729788\ttotal: 3.27s\tremaining: 234ms\n",
            "112:\tlearn: 0.6729788\ttotal: 3.31s\tremaining: 205ms\n",
            "113:\tlearn: 0.6729788\ttotal: 3.36s\tremaining: 177ms\n",
            "114:\tlearn: 0.6729788\ttotal: 3.39s\tremaining: 147ms\n",
            "115:\tlearn: 0.6729788\ttotal: 3.43s\tremaining: 118ms\n",
            "116:\tlearn: 0.6729788\ttotal: 3.46s\tremaining: 88.7ms\n",
            "117:\tlearn: 0.6729788\ttotal: 3.51s\tremaining: 59.6ms\n",
            "118:\tlearn: 0.6729788\ttotal: 3.54s\tremaining: 29.8ms\n",
            "119:\tlearn: 0.6729788\ttotal: 3.58s\tremaining: 0us\n"
          ]
        },
        {
          "output_type": "execute_result",
          "data": {
            "text/plain": [
              "<catboost.core.CatBoostClassifier at 0x7b1ff85fab50>"
            ]
          },
          "metadata": {},
          "execution_count": 23
        }
      ],
      "source": [
        "model2.fit(X_train, Y_train, verbose=True, plot=True)"
      ]
    },
    {
      "cell_type": "code",
      "execution_count": 24,
      "metadata": {
        "colab": {
          "base_uri": "https://localhost:8080/",
          "height": 143
        },
        "id": "d4xg64sZllRB",
        "outputId": "89ce0c6c-824f-45eb-8a2f-19db67dcaa1d"
      },
      "outputs": [
        {
          "output_type": "execute_result",
          "data": {
            "text/plain": [
              "            Feature Id  Importances\n",
              "0  Alcohol_Consumption    47.663670\n",
              "1      Smoking_History    44.404226\n",
              "2               Gender     7.932104"
            ],
            "text/html": [
              "\n",
              "  <div id=\"df-c69f1e32-fe60-4e56-b90c-07a3410c66d7\" class=\"colab-df-container\">\n",
              "    <div>\n",
              "<style scoped>\n",
              "    .dataframe tbody tr th:only-of-type {\n",
              "        vertical-align: middle;\n",
              "    }\n",
              "\n",
              "    .dataframe tbody tr th {\n",
              "        vertical-align: top;\n",
              "    }\n",
              "\n",
              "    .dataframe thead th {\n",
              "        text-align: right;\n",
              "    }\n",
              "</style>\n",
              "<table border=\"1\" class=\"dataframe\">\n",
              "  <thead>\n",
              "    <tr style=\"text-align: right;\">\n",
              "      <th></th>\n",
              "      <th>Feature Id</th>\n",
              "      <th>Importances</th>\n",
              "    </tr>\n",
              "  </thead>\n",
              "  <tbody>\n",
              "    <tr>\n",
              "      <th>0</th>\n",
              "      <td>Alcohol_Consumption</td>\n",
              "      <td>47.663670</td>\n",
              "    </tr>\n",
              "    <tr>\n",
              "      <th>1</th>\n",
              "      <td>Smoking_History</td>\n",
              "      <td>44.404226</td>\n",
              "    </tr>\n",
              "    <tr>\n",
              "      <th>2</th>\n",
              "      <td>Gender</td>\n",
              "      <td>7.932104</td>\n",
              "    </tr>\n",
              "  </tbody>\n",
              "</table>\n",
              "</div>\n",
              "    <div class=\"colab-df-buttons\">\n",
              "\n",
              "  <div class=\"colab-df-container\">\n",
              "    <button class=\"colab-df-convert\" onclick=\"convertToInteractive('df-c69f1e32-fe60-4e56-b90c-07a3410c66d7')\"\n",
              "            title=\"Convert this dataframe to an interactive table.\"\n",
              "            style=\"display:none;\">\n",
              "\n",
              "  <svg xmlns=\"http://www.w3.org/2000/svg\" height=\"24px\" viewBox=\"0 -960 960 960\">\n",
              "    <path d=\"M120-120v-720h720v720H120Zm60-500h600v-160H180v160Zm220 220h160v-160H400v160Zm0 220h160v-160H400v160ZM180-400h160v-160H180v160Zm440 0h160v-160H620v160ZM180-180h160v-160H180v160Zm440 0h160v-160H620v160Z\"/>\n",
              "  </svg>\n",
              "    </button>\n",
              "\n",
              "  <style>\n",
              "    .colab-df-container {\n",
              "      display:flex;\n",
              "      gap: 12px;\n",
              "    }\n",
              "\n",
              "    .colab-df-convert {\n",
              "      background-color: #E8F0FE;\n",
              "      border: none;\n",
              "      border-radius: 50%;\n",
              "      cursor: pointer;\n",
              "      display: none;\n",
              "      fill: #1967D2;\n",
              "      height: 32px;\n",
              "      padding: 0 0 0 0;\n",
              "      width: 32px;\n",
              "    }\n",
              "\n",
              "    .colab-df-convert:hover {\n",
              "      background-color: #E2EBFA;\n",
              "      box-shadow: 0px 1px 2px rgba(60, 64, 67, 0.3), 0px 1px 3px 1px rgba(60, 64, 67, 0.15);\n",
              "      fill: #174EA6;\n",
              "    }\n",
              "\n",
              "    .colab-df-buttons div {\n",
              "      margin-bottom: 4px;\n",
              "    }\n",
              "\n",
              "    [theme=dark] .colab-df-convert {\n",
              "      background-color: #3B4455;\n",
              "      fill: #D2E3FC;\n",
              "    }\n",
              "\n",
              "    [theme=dark] .colab-df-convert:hover {\n",
              "      background-color: #434B5C;\n",
              "      box-shadow: 0px 1px 3px 1px rgba(0, 0, 0, 0.15);\n",
              "      filter: drop-shadow(0px 1px 2px rgba(0, 0, 0, 0.3));\n",
              "      fill: #FFFFFF;\n",
              "    }\n",
              "  </style>\n",
              "\n",
              "    <script>\n",
              "      const buttonEl =\n",
              "        document.querySelector('#df-c69f1e32-fe60-4e56-b90c-07a3410c66d7 button.colab-df-convert');\n",
              "      buttonEl.style.display =\n",
              "        google.colab.kernel.accessAllowed ? 'block' : 'none';\n",
              "\n",
              "      async function convertToInteractive(key) {\n",
              "        const element = document.querySelector('#df-c69f1e32-fe60-4e56-b90c-07a3410c66d7');\n",
              "        const dataTable =\n",
              "          await google.colab.kernel.invokeFunction('convertToInteractive',\n",
              "                                                    [key], {});\n",
              "        if (!dataTable) return;\n",
              "\n",
              "        const docLinkHtml = 'Like what you see? Visit the ' +\n",
              "          '<a target=\"_blank\" href=https://colab.research.google.com/notebooks/data_table.ipynb>data table notebook</a>'\n",
              "          + ' to learn more about interactive tables.';\n",
              "        element.innerHTML = '';\n",
              "        dataTable['output_type'] = 'display_data';\n",
              "        await google.colab.output.renderOutput(dataTable, element);\n",
              "        const docLink = document.createElement('div');\n",
              "        docLink.innerHTML = docLinkHtml;\n",
              "        element.appendChild(docLink);\n",
              "      }\n",
              "    </script>\n",
              "  </div>\n",
              "\n",
              "\n",
              "<div id=\"df-2a21da84-978a-4e96-bb2f-08af92b58a4c\">\n",
              "  <button class=\"colab-df-quickchart\" onclick=\"quickchart('df-2a21da84-978a-4e96-bb2f-08af92b58a4c')\"\n",
              "            title=\"Suggest charts\"\n",
              "            style=\"display:none;\">\n",
              "\n",
              "<svg xmlns=\"http://www.w3.org/2000/svg\" height=\"24px\"viewBox=\"0 0 24 24\"\n",
              "     width=\"24px\">\n",
              "    <g>\n",
              "        <path d=\"M19 3H5c-1.1 0-2 .9-2 2v14c0 1.1.9 2 2 2h14c1.1 0 2-.9 2-2V5c0-1.1-.9-2-2-2zM9 17H7v-7h2v7zm4 0h-2V7h2v10zm4 0h-2v-4h2v4z\"/>\n",
              "    </g>\n",
              "</svg>\n",
              "  </button>\n",
              "\n",
              "<style>\n",
              "  .colab-df-quickchart {\n",
              "      --bg-color: #E8F0FE;\n",
              "      --fill-color: #1967D2;\n",
              "      --hover-bg-color: #E2EBFA;\n",
              "      --hover-fill-color: #174EA6;\n",
              "      --disabled-fill-color: #AAA;\n",
              "      --disabled-bg-color: #DDD;\n",
              "  }\n",
              "\n",
              "  [theme=dark] .colab-df-quickchart {\n",
              "      --bg-color: #3B4455;\n",
              "      --fill-color: #D2E3FC;\n",
              "      --hover-bg-color: #434B5C;\n",
              "      --hover-fill-color: #FFFFFF;\n",
              "      --disabled-bg-color: #3B4455;\n",
              "      --disabled-fill-color: #666;\n",
              "  }\n",
              "\n",
              "  .colab-df-quickchart {\n",
              "    background-color: var(--bg-color);\n",
              "    border: none;\n",
              "    border-radius: 50%;\n",
              "    cursor: pointer;\n",
              "    display: none;\n",
              "    fill: var(--fill-color);\n",
              "    height: 32px;\n",
              "    padding: 0;\n",
              "    width: 32px;\n",
              "  }\n",
              "\n",
              "  .colab-df-quickchart:hover {\n",
              "    background-color: var(--hover-bg-color);\n",
              "    box-shadow: 0 1px 2px rgba(60, 64, 67, 0.3), 0 1px 3px 1px rgba(60, 64, 67, 0.15);\n",
              "    fill: var(--button-hover-fill-color);\n",
              "  }\n",
              "\n",
              "  .colab-df-quickchart-complete:disabled,\n",
              "  .colab-df-quickchart-complete:disabled:hover {\n",
              "    background-color: var(--disabled-bg-color);\n",
              "    fill: var(--disabled-fill-color);\n",
              "    box-shadow: none;\n",
              "  }\n",
              "\n",
              "  .colab-df-spinner {\n",
              "    border: 2px solid var(--fill-color);\n",
              "    border-color: transparent;\n",
              "    border-bottom-color: var(--fill-color);\n",
              "    animation:\n",
              "      spin 1s steps(1) infinite;\n",
              "  }\n",
              "\n",
              "  @keyframes spin {\n",
              "    0% {\n",
              "      border-color: transparent;\n",
              "      border-bottom-color: var(--fill-color);\n",
              "      border-left-color: var(--fill-color);\n",
              "    }\n",
              "    20% {\n",
              "      border-color: transparent;\n",
              "      border-left-color: var(--fill-color);\n",
              "      border-top-color: var(--fill-color);\n",
              "    }\n",
              "    30% {\n",
              "      border-color: transparent;\n",
              "      border-left-color: var(--fill-color);\n",
              "      border-top-color: var(--fill-color);\n",
              "      border-right-color: var(--fill-color);\n",
              "    }\n",
              "    40% {\n",
              "      border-color: transparent;\n",
              "      border-right-color: var(--fill-color);\n",
              "      border-top-color: var(--fill-color);\n",
              "    }\n",
              "    60% {\n",
              "      border-color: transparent;\n",
              "      border-right-color: var(--fill-color);\n",
              "    }\n",
              "    80% {\n",
              "      border-color: transparent;\n",
              "      border-right-color: var(--fill-color);\n",
              "      border-bottom-color: var(--fill-color);\n",
              "    }\n",
              "    90% {\n",
              "      border-color: transparent;\n",
              "      border-bottom-color: var(--fill-color);\n",
              "    }\n",
              "  }\n",
              "</style>\n",
              "\n",
              "  <script>\n",
              "    async function quickchart(key) {\n",
              "      const quickchartButtonEl =\n",
              "        document.querySelector('#' + key + ' button');\n",
              "      quickchartButtonEl.disabled = true;  // To prevent multiple clicks.\n",
              "      quickchartButtonEl.classList.add('colab-df-spinner');\n",
              "      try {\n",
              "        const charts = await google.colab.kernel.invokeFunction(\n",
              "            'suggestCharts', [key], {});\n",
              "      } catch (error) {\n",
              "        console.error('Error during call to suggestCharts:', error);\n",
              "      }\n",
              "      quickchartButtonEl.classList.remove('colab-df-spinner');\n",
              "      quickchartButtonEl.classList.add('colab-df-quickchart-complete');\n",
              "    }\n",
              "    (() => {\n",
              "      let quickchartButtonEl =\n",
              "        document.querySelector('#df-2a21da84-978a-4e96-bb2f-08af92b58a4c button');\n",
              "      quickchartButtonEl.style.display =\n",
              "        google.colab.kernel.accessAllowed ? 'block' : 'none';\n",
              "    })();\n",
              "  </script>\n",
              "</div>\n",
              "    </div>\n",
              "  </div>\n"
            ],
            "application/vnd.google.colaboratory.intrinsic+json": {
              "type": "dataframe",
              "summary": "{\n  \"name\": \"model2\",\n  \"rows\": 3,\n  \"fields\": [\n    {\n      \"column\": \"Feature Id\",\n      \"properties\": {\n        \"dtype\": \"string\",\n        \"num_unique_values\": 3,\n        \"samples\": [\n          \"Alcohol_Consumption\",\n          \"Smoking_History\",\n          \"Gender\"\n        ],\n        \"semantic_type\": \"\",\n        \"description\": \"\"\n      }\n    },\n    {\n      \"column\": \"Importances\",\n      \"properties\": {\n        \"dtype\": \"number\",\n        \"std\": 22.058396318064734,\n        \"min\": 7.932103603200934,\n        \"max\": 47.66367034422392,\n        \"num_unique_values\": 3,\n        \"samples\": [\n          47.66367034422392,\n          44.40422605257514,\n          7.932103603200934\n        ],\n        \"semantic_type\": \"\",\n        \"description\": \"\"\n      }\n    }\n  ]\n}"
            }
          },
          "metadata": {},
          "execution_count": 24
        }
      ],
      "source": [
        "model2.get_feature_importance(prettified=True)"
      ]
    },
    {
      "cell_type": "code",
      "execution_count": 25,
      "metadata": {
        "id": "st50o5Lq-62m",
        "outputId": "f333e6e6-9b64-4c07-c16e-4aed0e636a00",
        "colab": {
          "base_uri": "https://localhost:8080/",
          "height": 562
        }
      },
      "outputs": [
        {
          "output_type": "execute_result",
          "data": {
            "text/plain": [
              "Text(0.5, 1.0, 'Feature Importance')"
            ]
          },
          "metadata": {},
          "execution_count": 25
        },
        {
          "output_type": "display_data",
          "data": {
            "text/plain": [
              "<Figure size 1200x600 with 1 Axes>"
            ],
            "image/png": "[encoded data removed]"
          },
          "metadata": {}
        }
      ],
      "source": [
        "feature_importance = model2.feature_importances_\n",
        "sorted_idx = np.argsort(feature_importance)\n",
        "fig = plt.figure(figsize=(12, 6))\n",
        "plt.barh(range(len(sorted_idx)), feature_importance[sorted_idx], align='center')\n",
        "plt.yticks(range(len(sorted_idx)), np.array(X_test.columns)[sorted_idx])\n",
        "plt.title('Feature Importance')"
      ]
    },
    {
      "cell_type": "code",
      "execution_count": 26,
      "metadata": {
        "id": "cN8CWfRP-62m",
        "outputId": "e5cdeb36-2a3e-42fa-dcb5-6271e2b43026",
        "colab": {
          "base_uri": "https://localhost:8080/"
        }
      },
      "outputs": [
        {
          "output_type": "execute_result",
          "data": {
            "text/plain": [
              "(50250,)"
            ]
          },
          "metadata": {},
          "execution_count": 26
        }
      ],
      "source": [
        "class_predictions = model2.predict(X_test)\n",
        "class_predictions.shape"
      ]
    },
    {
      "cell_type": "code",
      "execution_count": 27,
      "metadata": {
        "id": "IA-x89mE-62m",
        "outputId": "18b89bce-cc6a-445f-afa7-1080c5ed141c",
        "colab": {
          "base_uri": "https://localhost:8080/"
        }
      },
      "outputs": [
        {
          "output_type": "stream",
          "name": "stdout",
          "text": [
            "Accuracy -  0.5987462686567164\n",
            "Precision -  1.0\n",
            "Recall -  0.5987462686567164\n"
          ]
        }
      ],
      "source": [
        "print('Accuracy - ',accuracy_score(class_predictions,Y_test))\n",
        "print('Precision - ',precision_score(class_predictions,Y_test))\n",
        "print('Recall - ',recall_score(class_predictions,Y_test))"
      ]
    }
  ],
  "metadata": {
    "colab": {
      "provenance": []
    },
    "kernelspec": {
      "display_name": "Python 3",
      "language": "python",
      "name": "python3"
    },
    "language_info": {
      "codemirror_mode": {
        "name": "ipython",
        "version": 3
      },
      "file_extension": ".py",
      "mimetype": "text/x-python",
      "name": "python",
      "nbconvert_exporter": "python",
      "pygments_lexer": "ipython3",
      "version": "3.9.0"
    },
    "widgets": {
      "application/vnd.jupyter.widget-state+json": {
        "e287461ada2f4c21bf2b656a5146c9e5": {
          "model_module": "catboost-widget",
          "model_name": "CatboostWidgetModel",
          "model_module_version": "^1.0.0",
          "state": {
            "_dom_classes": [],
            "_model_module": "catboost-widget",
            "_model_module_version": "^1.0.0",
            "_model_name": "CatboostWidgetModel",
            "_view_count": null,
            "_view_module": "catboost-widget",
            "_view_module_version": "^1.0.0",
            "_view_name": "CatboostWidgetView",
            "data": {
              "catboost_info": {
                "path": "catboost_info",
                "name": "catboost_info",
                "content": {
                  "passed_iterations": 99,
                  "total_iterations": 100,
                  "data": {
                    "iterations": [
                      {
                        "learn": [
                          0.6893959534,
                          0.5993268506
                        ],
                        "iteration": 0,
                        "passed_time": 0.06377441975,
                        "remaining_time": 6.313667555
                      },
                      {
                        "learn": [
                          0.686357205,
                          0.5993268506
                        ],
                        "iteration": 1,
                        "passed_time": 0.07669931268,
                        "remaining_time": 3.758266322
                      },
                      {
                        "learn": [
                          0.6838931972,
                          0.5993268506
                        ],
                        "iteration": 2,
                        "passed_time": 0.08802307238,
                        "remaining_time": 2.84607934
                      },
                      {
                        "learn": [
                          0.6818941199,
                          0.5993268506
                        ],
                        "iteration": 3,
                        "passed_time": 0.09945053256,
                        "remaining_time": 2.386812782
                      },
                      {
                        "learn": [
                          0.6802694119,
                          0.5993268506
                        ],
                        "iteration": 4,
                        "passed_time": 0.1120096573,
                        "remaining_time": 2.128183488
                      },
                      {
                        "learn": [
                          0.6789515449,
                          0.5993268506
                        ],
                        "iteration": 5,
                        "passed_time": 0.1245109128,
                        "remaining_time": 1.950670967
                      },
                      {
                        "learn": [
                          0.6778802689,
                          0.5993268506
                        ],
                        "iteration": 6,
                        "passed_time": 0.1370781497,
                        "remaining_time": 1.821181132
                      },
                      {
                        "learn": [
                          0.6770117208,
                          0.5993268506
                        ],
                        "iteration": 7,
                        "passed_time": 0.1483392082,
                        "remaining_time": 1.705900894
                      },
                      {
                        "learn": [
                          0.6763066417,
                          0.5993268506
                        ],
                        "iteration": 8,
                        "passed_time": 0.1596156306,
                        "remaining_time": 1.613891376
                      },
                      {
                        "learn": [
                          0.675733959,
                          0.5993268506
                        ],
                        "iteration": 9,
                        "passed_time": 0.1730871246,
                        "remaining_time": 1.557784122
                      },
                      {
                        "learn": [
                          0.6752691396,
                          0.5993268506
                        ],
                        "iteration": 10,
                        "passed_time": 0.1848118702,
                        "remaining_time": 1.49529604
                      },
                      {
                        "learn": [
                          0.6748918142,
                          0.5993268506
                        ],
                        "iteration": 11,
                        "passed_time": 0.1965560417,
                        "remaining_time": 1.441410972
                      },
                      {
                        "learn": [
                          0.6745854228,
                          0.5993268506
                        ],
                        "iteration": 12,
                        "passed_time": 0.2094783245,
                        "remaining_time": 1.401893402
                      },
                      {
                        "learn": [
                          0.6743367656,
                          0.5993268506
                        ],
                        "iteration": 13,
                        "passed_time": 0.2219464475,
                        "remaining_time": 1.36338532
                      },
                      {
                        "learn": [
                          0.6741349879,
                          0.5993268506
                        ],
                        "iteration": 14,
                        "passed_time": 0.2343213655,
                        "remaining_time": 1.327821071
                      },
                      {
                        "learn": [
                          0.673971342,
                          0.5993268506
                        ],
                        "iteration": 15,
                        "passed_time": 0.2456059047,
                        "remaining_time": 1.289431
                      },
                      {
                        "learn": [
                          0.6738362903,
                          0.5993268506
                        ],
                        "iteration": 16,
                        "passed_time": 0.2592592466,
                        "remaining_time": 1.265795145
                      },
                      {
                        "learn": [
                          0.6737281007,
                          0.5993268506
                        ],
                        "iteration": 17,
                        "passed_time": 0.2738148297,
                        "remaining_time": 1.247378669
                      },
                      {
                        "learn": [
                          0.6736406927,
                          0.5993268506
                        ],
                        "iteration": 18,
                        "passed_time": 0.2894751024,
                        "remaining_time": 1.234078068
                      },
                      {
                        "learn": [
                          0.6735698067,
                          0.5993268506
                        ],
                        "iteration": 19,
                        "passed_time": 0.3057140213,
                        "remaining_time": 1.222856085
                      },
                      {
                        "learn": [
                          0.6735122709,
                          0.5993268506
                        ],
                        "iteration": 20,
                        "passed_time": 0.3184506587,
                        "remaining_time": 1.197981049
                      },
                      {
                        "learn": [
                          0.6734639171,
                          0.5993268506
                        ],
                        "iteration": 21,
                        "passed_time": 0.3321648218,
                        "remaining_time": 1.177675277
                      },
                      {
                        "learn": [
                          0.673425832,
                          0.5993268506
                        ],
                        "iteration": 22,
                        "passed_time": 0.3455291475,
                        "remaining_time": 1.156771494
                      },
                      {
                        "learn": [
                          0.6733943043,
                          0.5993268506
                        ],
                        "iteration": 23,
                        "passed_time": 0.3581912572,
                        "remaining_time": 1.134272314
                      },
                      {
                        "learn": [
                          0.6733682644,
                          0.5993268506
                        ],
                        "iteration": 24,
                        "passed_time": 0.3717185948,
                        "remaining_time": 1.115155785
                      },
                      {
                        "learn": [
                          0.6733471532,
                          0.5993268506
                        ],
                        "iteration": 25,
                        "passed_time": 0.385736525,
                        "remaining_time": 1.097865494
                      },
                      {
                        "learn": [
                          0.6733308027,
                          0.5993268506
                        ],
                        "iteration": 26,
                        "passed_time": 0.3981064064,
                        "remaining_time": 1.076361765
                      },
                      {
                        "learn": [
                          0.6733175505,
                          0.5993268506
                        ],
                        "iteration": 27,
                        "passed_time": 0.4105462985,
                        "remaining_time": 1.055690482
                      },
                      {
                        "learn": [
                          0.6733068099,
                          0.5993268506
                        ],
                        "iteration": 28,
                        "passed_time": 0.423278493,
                        "remaining_time": 1.036302517
                      },
                      {
                        "learn": [
                          0.6732973376,
                          0.5993268506
                        ],
                        "iteration": 29,
                        "passed_time": 0.4368079303,
                        "remaining_time": 1.019218504
                      },
                      {
                        "learn": [
                          0.6732899087,
                          0.5993268506
                        ],
                        "iteration": 30,
                        "passed_time": 0.4493380286,
                        "remaining_time": 1.000139483
                      },
                      {
                        "learn": [
                          0.6732840724,
                          0.5993268506
                        ],
                        "iteration": 31,
                        "passed_time": 0.4615842754,
                        "remaining_time": 0.9808665852
                      },
                      {
                        "learn": [
                          0.6732791358,
                          0.5993268506
                        ],
                        "iteration": 32,
                        "passed_time": 0.480042644,
                        "remaining_time": 0.9746320347
                      },
                      {
                        "learn": [
                          0.6732753761,
                          0.5993268506
                        ],
                        "iteration": 33,
                        "passed_time": 0.4925548314,
                        "remaining_time": 0.9561358492
                      },
                      {
                        "learn": [
                          0.6732718617,
                          0.5993268506
                        ],
                        "iteration": 34,
                        "passed_time": 0.5060340431,
                        "remaining_time": 0.9397775086
                      },
                      {
                        "learn": [
                          0.6732693955,
                          0.5993268506
                        ],
                        "iteration": 35,
                        "passed_time": 0.5185615413,
                        "remaining_time": 0.9218871845
                      },
                      {
                        "learn": [
                          0.6732674013,
                          0.5993268506
                        ],
                        "iteration": 36,
                        "passed_time": 0.5302549939,
                        "remaining_time": 0.9028666113
                      },
                      {
                        "learn": [
                          0.6732653992,
                          0.5993268506
                        ],
                        "iteration": 37,
                        "passed_time": 0.5440122655,
                        "remaining_time": 0.8875989595
                      },
                      {
                        "learn": [
                          0.673264023,
                          0.5993268506
                        ],
                        "iteration": 38,
                        "passed_time": 0.5566775331,
                        "remaining_time": 0.8707007569
                      },
                      {
                        "learn": [
                          0.673262908,
                          0.5993268506
                        ],
                        "iteration": 39,
                        "passed_time": 0.569368871,
                        "remaining_time": 0.8540533065
                      },
                      {
                        "learn": [
                          0.6732620487,
                          0.5993268506
                        ],
                        "iteration": 40,
                        "passed_time": 0.5808345231,
                        "remaining_time": 0.8358350454
                      },
                      {
                        "learn": [
                          0.6732613084,
                          0.5993268506
                        ],
                        "iteration": 41,
                        "passed_time": 0.5936467587,
                        "remaining_time": 0.8197979049
                      },
                      {
                        "learn": [
                          0.6732604621,
                          0.5993268506
                        ],
                        "iteration": 42,
                        "passed_time": 0.607723294,
                        "remaining_time": 0.805586692
                      },
                      {
                        "learn": [
                          0.6732600051,
                          0.5993268506
                        ],
                        "iteration": 43,
                        "passed_time": 0.6265724484,
                        "remaining_time": 0.7974558434
                      },
                      {
                        "learn": [
                          0.6732596328,
                          0.5993268506
                        ],
                        "iteration": 44,
                        "passed_time": 0.6446969544,
                        "remaining_time": 0.7879629442
                      },
                      {
                        "learn": [
                          0.6732591043,
                          0.5993268506
                        ],
                        "iteration": 45,
                        "passed_time": 0.6612000252,
                        "remaining_time": 0.776191334
                      },
                      {
                        "learn": [
                          0.6732587537,
                          0.5993268506
                        ],
                        "iteration": 46,
                        "passed_time": 0.674551888,
                        "remaining_time": 0.760664895
                      },
                      {
                        "learn": [
                          0.6732585556,
                          0.5993268506
                        ],
                        "iteration": 47,
                        "passed_time": 0.6882565997,
                        "remaining_time": 0.7456113164
                      },
                      {
                        "learn": [
                          0.6732583091,
                          0.5993268506
                        ],
                        "iteration": 48,
                        "passed_time": 0.7014636714,
                        "remaining_time": 0.7300948416
                      },
                      {
                        "learn": [
                          0.6732581094,
                          0.5993268506
                        ],
                        "iteration": 49,
                        "passed_time": 0.7145046809,
                        "remaining_time": 0.7145046809
                      },
                      {
                        "learn": [
                          0.673258004,
                          0.5993268506
                        ],
                        "iteration": 50,
                        "passed_time": 0.7264662925,
                        "remaining_time": 0.6979774182
                      },
                      {
                        "learn": [
                          0.6732579189,
                          0.5993268506
                        ],
                        "iteration": 51,
                        "passed_time": 0.7386040167,
                        "remaining_time": 0.6817883231
                      },
                      {
                        "learn": [
                          0.67325785,
                          0.5993268506
                        ],
                        "iteration": 52,
                        "passed_time": 0.750434086,
                        "remaining_time": 0.6654792838
                      },
                      {
                        "learn": [
                          0.6732577717,
                          0.5993268506
                        ],
                        "iteration": 53,
                        "passed_time": 0.7635778055,
                        "remaining_time": 0.6504551676
                      },
                      {
                        "learn": [
                          0.6732577082,
                          0.5993268506
                        ],
                        "iteration": 54,
                        "passed_time": 0.7766757223,
                        "remaining_time": 0.6354619546
                      },
                      {
                        "learn": [
                          0.673257545,
                          0.5993268506
                        ],
                        "iteration": 55,
                        "passed_time": 0.7915315545,
                        "remaining_time": 0.6219176499
                      },
                      {
                        "learn": [
                          0.6732574128,
                          0.5993268506
                        ],
                        "iteration": 56,
                        "passed_time": 0.8057906513,
                        "remaining_time": 0.607877158
                      },
                      {
                        "learn": [
                          0.6732573056,
                          0.5993268506
                        ],
                        "iteration": 57,
                        "passed_time": 0.8195235003,
                        "remaining_time": 0.593448052
                      },
                      {
                        "learn": [
                          0.6732572188,
                          0.5993268506
                        ],
                        "iteration": 58,
                        "passed_time": 0.83347593,
                        "remaining_time": 0.5791951378
                      },
                      {
                        "learn": [
                          0.6732571485,
                          0.5993268506
                        ],
                        "iteration": 59,
                        "passed_time": 0.847413148,
                        "remaining_time": 0.5649420987
                      },
                      {
                        "learn": [
                          0.6732571346,
                          0.5993268506
                        ],
                        "iteration": 60,
                        "passed_time": 0.8633220673,
                        "remaining_time": 0.5519600102
                      },
                      {
                        "learn": [
                          0.6732570803,
                          0.5993268506
                        ],
                        "iteration": 61,
                        "passed_time": 0.877737394,
                        "remaining_time": 0.5379680802
                      },
                      {
                        "learn": [
                          0.6732570677,
                          0.5993268506
                        ],
                        "iteration": 62,
                        "passed_time": 0.8936492834,
                        "remaining_time": 0.5248416426
                      },
                      {
                        "learn": [
                          0.6732570575,
                          0.5993268506
                        ],
                        "iteration": 63,
                        "passed_time": 0.906764102,
                        "remaining_time": 0.5100548074
                      },
                      {
                        "learn": [
                          0.6732570178,
                          0.5993268506
                        ],
                        "iteration": 64,
                        "passed_time": 0.9213461954,
                        "remaining_time": 0.4961094898
                      },
                      {
                        "learn": [
                          0.6732569856,
                          0.5993268506
                        ],
                        "iteration": 65,
                        "passed_time": 0.9410014308,
                        "remaining_time": 0.4847583128
                      },
                      {
                        "learn": [
                          0.6732569802,
                          0.5993268506
                        ],
                        "iteration": 66,
                        "passed_time": 0.9541395623,
                        "remaining_time": 0.4699493366
                      },
                      {
                        "learn": [
                          0.6732569552,
                          0.5993268506
                        ],
                        "iteration": 67,
                        "passed_time": 0.9681272018,
                        "remaining_time": 0.4555892714
                      },
                      {
                        "learn": [
                          0.6732569528,
                          0.5993268506
                        ],
                        "iteration": 68,
                        "passed_time": 0.979977293,
                        "remaining_time": 0.4402796534
                      },
                      {
                        "learn": [
                          0.673256933,
                          0.5993268506
                        ],
                        "iteration": 69,
                        "passed_time": 0.9940210526,
                        "remaining_time": 0.4260090225
                      },
                      {
                        "learn": [
                          0.6732569169,
                          0.5993268506
                        ],
                        "iteration": 70,
                        "passed_time": 1.008106652,
                        "remaining_time": 0.4117618719
                      },
                      {
                        "learn": [
                          0.6732569101,
                          0.5993268506
                        ],
                        "iteration": 71,
                        "passed_time": 1.021049238,
                        "remaining_time": 0.3970747038
                      },
                      {
                        "learn": [
                          0.6732568983,
                          0.5993268506
                        ],
                        "iteration": 72,
                        "passed_time": 1.034864405,
                        "remaining_time": 0.3827580676
                      },
                      {
                        "learn": [
                          0.6732568973,
                          0.5993268506
                        ],
                        "iteration": 73,
                        "passed_time": 1.047839204,
                        "remaining_time": 0.3681597202
                      },
                      {
                        "learn": [
                          0.673256896,
                          0.5993268506
                        ],
                        "iteration": 74,
                        "passed_time": 1.060788813,
                        "remaining_time": 0.3535962711
                      },
                      {
                        "learn": [
                          0.6732568953,
                          0.5993268506
                        ],
                        "iteration": 75,
                        "passed_time": 1.073895525,
                        "remaining_time": 0.3391249026
                      },
                      {
                        "learn": [
                          0.6732568912,
                          0.5993268506
                        ],
                        "iteration": 76,
                        "passed_time": 1.086797264,
                        "remaining_time": 0.3246277542
                      },
                      {
                        "learn": [
                          0.6732568831,
                          0.5993268506
                        ],
                        "iteration": 77,
                        "passed_time": 1.103601941,
                        "remaining_time": 0.3112723423
                      },
                      {
                        "learn": [
                          0.6732568828,
                          0.5993268506
                        ],
                        "iteration": 78,
                        "passed_time": 1.115733922,
                        "remaining_time": 0.2965874983
                      },
                      {
                        "learn": [
                          0.6732568802,
                          0.5993268506
                        ],
                        "iteration": 79,
                        "passed_time": 1.129231685,
                        "remaining_time": 0.2823079212
                      },
                      {
                        "learn": [
                          0.6732568781,
                          0.5993268506
                        ],
                        "iteration": 80,
                        "passed_time": 1.142208457,
                        "remaining_time": 0.2679254405
                      },
                      {
                        "learn": [
                          0.6732568763,
                          0.5993268506
                        ],
                        "iteration": 81,
                        "passed_time": 1.155280253,
                        "remaining_time": 0.2535981042
                      },
                      {
                        "learn": [
                          0.6732568761,
                          0.5993268506
                        ],
                        "iteration": 82,
                        "passed_time": 1.168357733,
                        "remaining_time": 0.2393021863
                      },
                      {
                        "learn": [
                          0.673256876,
                          0.5993268506
                        ],
                        "iteration": 83,
                        "passed_time": 1.180355193,
                        "remaining_time": 0.2248295606
                      },
                      {
                        "learn": [
                          0.6732568747,
                          0.5993268506
                        ],
                        "iteration": 84,
                        "passed_time": 1.193197168,
                        "remaining_time": 0.2105642062
                      },
                      {
                        "learn": [
                          0.6732568742,
                          0.5993268506
                        ],
                        "iteration": 85,
                        "passed_time": 1.206134424,
                        "remaining_time": 0.1963474644
                      },
                      {
                        "learn": [
                          0.6732568731,
                          0.5993268506
                        ],
                        "iteration": 86,
                        "passed_time": 1.219276325,
                        "remaining_time": 0.1821907153
                      },
                      {
                        "learn": [
                          0.6732568684,
                          0.5993268506
                        ],
                        "iteration": 87,
                        "passed_time": 1.233433873,
                        "remaining_time": 0.1681955281
                      },
                      {
                        "learn": [
                          0.6732568683,
                          0.5993268506
                        ],
                        "iteration": 88,
                        "passed_time": 1.246322398,
                        "remaining_time": 0.1540398469
                      },
                      {
                        "learn": [
                          0.6732568676,
                          0.5993268506
                        ],
                        "iteration": 89,
                        "passed_time": 1.259331125,
                        "remaining_time": 0.1399256805
                      },
                      {
                        "learn": [
                          0.6732568671,
                          0.5993268506
                        ],
                        "iteration": 90,
                        "passed_time": 1.27574128,
                        "remaining_time": 0.1261722145
                      },
                      {
                        "learn": [
                          0.673256867,
                          0.5993268506
                        ],
                        "iteration": 91,
                        "passed_time": 1.289909674,
                        "remaining_time": 0.1121660586
                      },
                      {
                        "learn": [
                          0.6732568666,
                          0.5993268506
                        ],
                        "iteration": 92,
                        "passed_time": 1.305058727,
                        "remaining_time": 0.09823022673
                      },
                      {
                        "learn": [
                          0.6732568665,
                          0.5993268506
                        ],
                        "iteration": 93,
                        "passed_time": 1.318239819,
                        "remaining_time": 0.08414296719
                      },
                      {
                        "learn": [
                          0.6732568631,
                          0.5993268506
                        ],
                        "iteration": 94,
                        "passed_time": 1.333018627,
                        "remaining_time": 0.07015887512
                      },
                      {
                        "learn": [
                          0.6732568631,
                          0.5993268506
                        ],
                        "iteration": 95,
                        "passed_time": 1.344968781,
                        "remaining_time": 0.05604036586
                      },
                      {
                        "learn": [
                          0.673256863,
                          0.5993268506
                        ],
                        "iteration": 96,
                        "passed_time": 1.363156972,
                        "remaining_time": 0.04215949398
                      },
                      {
                        "learn": [
                          0.6732568602,
                          0.5993268506
                        ],
                        "iteration": 97,
                        "passed_time": 1.377510073,
                        "remaining_time": 0.02811245047
                      },
                      {
                        "learn": [
                          0.6732568602,
                          0.5993268506
                        ],
                        "iteration": 98,
                        "passed_time": 1.389458907,
                        "remaining_time": 0.01403493845
                      },
                      {
                        "learn": [
                          0.67325686,
                          0.5993268506
                        ],
                        "iteration": 99,
                        "passed_time": 1.403653106,
                        "remaining_time": 0
                      }
                    ],
                    "meta": {
                      "test_sets": [],
                      "test_metrics": [],
                      "learn_metrics": [
                        {
                          "best_value": "Min",
                          "name": "Logloss"
                        },
                        {
                          "best_value": "Max",
                          "name": "Accuracy"
                        }
                      ],
                      "launch_mode": "Train",
                      "parameters": "",
                      "iteration_count": 100,
                      "learn_sets": [
                        "learn"
                      ],
                      "name": "experiment"
                    }
                  }
                }
              }
            },
            "layout": "IPY_MODEL_4d9357624edc42889c0febf00bc88962"
          }
        },
        "29677ab8983742ba9d8a474229d0aea7": {
          "model_module": "catboost-widget",
          "model_name": "CatboostWidgetModel",
          "model_module_version": "^1.0.0",
          "state": {
            "_dom_classes": [],
            "_model_module": "catboost-widget",
            "_model_module_version": "^1.0.0",
            "_model_name": "CatboostWidgetModel",
            "_view_count": null,
            "_view_module": "catboost-widget",
            "_view_module_version": "^1.0.0",
            "_view_name": "CatboostWidgetView",
            "data": {
              "catboost_info": {
                "path": "catboost_info",
                "name": "catboost_info",
                "content": {
                  "passed_iterations": 119,
                  "total_iterations": 120,
                  "data": {
                    "iterations": [
                      {
                        "learn": [
                          0.682942686,
                          0.6000153522
                        ],
                        "iteration": 0,
                        "passed_time": 0.01167440809,
                        "remaining_time": 1.389254563
                      },
                      {
                        "learn": [
                          0.6779172879,
                          0.6000153522
                        ],
                        "iteration": 1,
                        "passed_time": 0.02134205551,
                        "remaining_time": 1.259181275
                      },
                      {
                        "learn": [
                          0.6754208059,
                          0.6000153522
                        ],
                        "iteration": 2,
                        "passed_time": 0.03200290072,
                        "remaining_time": 1.248113128
                      },
                      {
                        "learn": [
                          0.6741896596,
                          0.6000153522
                        ],
                        "iteration": 3,
                        "passed_time": 0.04117035838,
                        "remaining_time": 1.193940393
                      },
                      {
                        "learn": [
                          0.6735757812,
                          0.6000153522
                        ],
                        "iteration": 4,
                        "passed_time": 0.05216994142,
                        "remaining_time": 1.199908653
                      },
                      {
                        "learn": [
                          0.6732744036,
                          0.6000153522
                        ],
                        "iteration": 5,
                        "passed_time": 0.06193897012,
                        "remaining_time": 1.176840432
                      },
                      {
                        "learn": [
                          0.6731259458,
                          0.6000153522
                        ],
                        "iteration": 6,
                        "passed_time": 0.07097418954,
                        "remaining_time": 1.145726203
                      },
                      {
                        "learn": [
                          0.6730510989,
                          0.6000153522
                        ],
                        "iteration": 7,
                        "passed_time": 0.08118374374,
                        "remaining_time": 1.136572412
                      },
                      {
                        "learn": [
                          0.6730151711,
                          0.6000153522
                        ],
                        "iteration": 8,
                        "passed_time": 0.09079978592,
                        "remaining_time": 1.119864026
                      },
                      {
                        "learn": [
                          0.6729973723,
                          0.6000153522
                        ],
                        "iteration": 9,
                        "passed_time": 0.09985036017,
                        "remaining_time": 1.098353962
                      },
                      {
                        "learn": [
                          0.672987898,
                          0.6000153522
                        ],
                        "iteration": 10,
                        "passed_time": 0.1104679092,
                        "remaining_time": 1.094636555
                      },
                      {
                        "learn": [
                          0.6729836056,
                          0.6000153522
                        ],
                        "iteration": 11,
                        "passed_time": 0.120456319,
                        "remaining_time": 1.084106871
                      },
                      {
                        "learn": [
                          0.6729811404,
                          0.6000153522
                        ],
                        "iteration": 12,
                        "passed_time": 0.1308689776,
                        "remaining_time": 1.077152354
                      },
                      {
                        "learn": [
                          0.672980107,
                          0.6000153522
                        ],
                        "iteration": 13,
                        "passed_time": 0.1402455863,
                        "remaining_time": 1.061859439
                      },
                      {
                        "learn": [
                          0.6729794573,
                          0.6000153522
                        ],
                        "iteration": 14,
                        "passed_time": 0.1507494017,
                        "remaining_time": 1.055245812
                      },
                      {
                        "learn": [
                          0.6729791051,
                          0.6000153522
                        ],
                        "iteration": 15,
                        "passed_time": 0.1613749674,
                        "remaining_time": 1.048937288
                      },
                      {
                        "learn": [
                          0.6729789323,
                          0.6000153522
                        ],
                        "iteration": 16,
                        "passed_time": 0.1722728619,
                        "remaining_time": 1.043770869
                      },
                      {
                        "learn": [
                          0.6729788719,
                          0.6000153522
                        ],
                        "iteration": 17,
                        "passed_time": 0.1834088384,
                        "remaining_time": 1.039316751
                      },
                      {
                        "learn": [
                          0.6729788179,
                          0.6000153522
                        ],
                        "iteration": 18,
                        "passed_time": 0.1954648923,
                        "remaining_time": 1.039050217
                      },
                      {
                        "learn": [
                          0.6729788034,
                          0.6000153522
                        ],
                        "iteration": 19,
                        "passed_time": 0.2055391163,
                        "remaining_time": 1.027695581
                      },
                      {
                        "learn": [
                          0.6729787957,
                          0.6000153522
                        ],
                        "iteration": 20,
                        "passed_time": 0.2166060494,
                        "remaining_time": 1.021142804
                      },
                      {
                        "learn": [
                          0.6729787806,
                          0.6000153522
                        ],
                        "iteration": 21,
                        "passed_time": 0.22764995,
                        "remaining_time": 1.01407705
                      },
                      {
                        "learn": [
                          0.6729787787,
                          0.6000153522
                        ],
                        "iteration": 22,
                        "passed_time": 0.2377854852,
                        "remaining_time": 1.002834437
                      },
                      {
                        "learn": [
                          0.6729787778,
                          0.6000153522
                        ],
                        "iteration": 23,
                        "passed_time": 0.247247153,
                        "remaining_time": 0.9889886122
                      },
                      {
                        "learn": [
                          0.6729787774,
                          0.6000153522
                        ],
                        "iteration": 24,
                        "passed_time": 0.2569373916,
                        "remaining_time": 0.9763620879
                      },
                      {
                        "learn": [
                          0.6729787772,
                          0.6000153522
                        ],
                        "iteration": 25,
                        "passed_time": 0.2664519679,
                        "remaining_time": 0.9633263455
                      },
                      {
                        "learn": [
                          0.6729787771,
                          0.6000153522
                        ],
                        "iteration": 26,
                        "passed_time": 0.2760853591,
                        "remaining_time": 0.9509606814
                      },
                      {
                        "learn": [
                          0.672978777,
                          0.6000153522
                        ],
                        "iteration": 27,
                        "passed_time": 0.2863133897,
                        "remaining_time": 0.9407439946
                      },
                      {
                        "learn": [
                          0.6729787714,
                          0.6000153522
                        ],
                        "iteration": 28,
                        "passed_time": 0.2971442809,
                        "remaining_time": 0.9324182606
                      },
                      {
                        "learn": [
                          0.6729787687,
                          0.6000153522
                        ],
                        "iteration": 29,
                        "passed_time": 0.307740032,
                        "remaining_time": 0.923220096
                      },
                      {
                        "learn": [
                          0.6729787673,
                          0.6000153522
                        ],
                        "iteration": 30,
                        "passed_time": 0.3185662812,
                        "remaining_time": 0.9145935169
                      },
                      {
                        "learn": [
                          0.6729787673,
                          0.6000153522
                        ],
                        "iteration": 31,
                        "passed_time": 0.327951413,
                        "remaining_time": 0.9018663858
                      },
                      {
                        "learn": [
                          0.6729787673,
                          0.6000153522
                        ],
                        "iteration": 32,
                        "passed_time": 0.337956705,
                        "remaining_time": 0.8909767678
                      },
                      {
                        "learn": [
                          0.6729787667,
                          0.6000153522
                        ],
                        "iteration": 33,
                        "passed_time": 0.3513091746,
                        "remaining_time": 0.8886055594
                      },
                      {
                        "learn": [
                          0.6729787663,
                          0.6000153522
                        ],
                        "iteration": 34,
                        "passed_time": 0.3619511044,
                        "remaining_time": 0.8790241107
                      },
                      {
                        "learn": [
                          0.6729787663,
                          0.6000153522
                        ],
                        "iteration": 35,
                        "passed_time": 0.3720820598,
                        "remaining_time": 0.8681914728
                      },
                      {
                        "learn": [
                          0.6729787662,
                          0.6000153522
                        ],
                        "iteration": 36,
                        "passed_time": 0.382369881,
                        "remaining_time": 0.8577486519
                      },
                      {
                        "learn": [
                          0.6729787662,
                          0.6000153522
                        ],
                        "iteration": 37,
                        "passed_time": 0.3920595081,
                        "remaining_time": 0.846023149
                      },
                      {
                        "learn": [
                          0.6729787661,
                          0.6000153522
                        ],
                        "iteration": 38,
                        "passed_time": 0.4026043181,
                        "remaining_time": 0.8361781991
                      },
                      {
                        "learn": [
                          0.6729787661,
                          0.6000153522
                        ],
                        "iteration": 39,
                        "passed_time": 0.4130421516,
                        "remaining_time": 0.8260843032
                      },
                      {
                        "learn": [
                          0.6729787661,
                          0.6000153522
                        ],
                        "iteration": 40,
                        "passed_time": 0.4249923231,
                        "remaining_time": 0.8188876469
                      },
                      {
                        "learn": [
                          0.6729787661,
                          0.6000153522
                        ],
                        "iteration": 41,
                        "passed_time": 0.4357672929,
                        "remaining_time": 0.8092821154
                      },
                      {
                        "learn": [
                          0.6729787661,
                          0.6000153522
                        ],
                        "iteration": 42,
                        "passed_time": 0.4460755005,
                        "remaining_time": 0.7987863614
                      },
                      {
                        "learn": [
                          0.6729787661,
                          0.6000153522
                        ],
                        "iteration": 43,
                        "passed_time": 0.4597508522,
                        "remaining_time": 0.7941151084
                      },
                      {
                        "learn": [
                          0.672978766,
                          0.6000153522
                        ],
                        "iteration": 44,
                        "passed_time": 0.4704075254,
                        "remaining_time": 0.7840125423
                      },
                      {
                        "learn": [
                          0.672978766,
                          0.6000153522
                        ],
                        "iteration": 45,
                        "passed_time": 0.4809937365,
                        "remaining_time": 0.7737725327
                      },
                      {
                        "learn": [
                          0.672978766,
                          0.6000153522
                        ],
                        "iteration": 46,
                        "passed_time": 0.4904331315,
                        "remaining_time": 0.761736566
                      },
                      {
                        "learn": [
                          0.672978766,
                          0.6000153522
                        ],
                        "iteration": 47,
                        "passed_time": 0.5140164677,
                        "remaining_time": 0.7710247016
                      },
                      {
                        "learn": [
                          0.672978766,
                          0.6000153522
                        ],
                        "iteration": 48,
                        "passed_time": 0.5462329965,
                        "remaining_time": 0.7914804644
                      },
                      {
                        "learn": [
                          0.672978766,
                          0.6000153522
                        ],
                        "iteration": 49,
                        "passed_time": 0.5734476024,
                        "remaining_time": 0.8028266433
                      },
                      {
                        "learn": [
                          0.672978766,
                          0.6000153522
                        ],
                        "iteration": 50,
                        "passed_time": 0.6040336183,
                        "remaining_time": 0.8172219542
                      },
                      {
                        "learn": [
                          0.672978766,
                          0.6000153522
                        ],
                        "iteration": 51,
                        "passed_time": 0.6512518437,
                        "remaining_time": 0.8516370264
                      },
                      {
                        "learn": [
                          0.672978766,
                          0.6000153522
                        ],
                        "iteration": 52,
                        "passed_time": 0.6847076287,
                        "remaining_time": 0.8655737947
                      },
                      {
                        "learn": [
                          0.672978766,
                          0.6000153522
                        ],
                        "iteration": 53,
                        "passed_time": 0.7350878322,
                        "remaining_time": 0.8984406838
                      },
                      {
                        "learn": [
                          0.672978766,
                          0.6000153522
                        ],
                        "iteration": 54,
                        "passed_time": 0.7762944133,
                        "remaining_time": 0.9174388521
                      },
                      {
                        "learn": [
                          0.672978766,
                          0.6000153522
                        ],
                        "iteration": 55,
                        "passed_time": 0.8172876672,
                        "remaining_time": 0.9340430482
                      },
                      {
                        "learn": [
                          0.672978766,
                          0.6000153522
                        ],
                        "iteration": 56,
                        "passed_time": 0.8390868917,
                        "remaining_time": 0.9274118277
                      },
                      {
                        "learn": [
                          0.672978766,
                          0.6000153522
                        ],
                        "iteration": 57,
                        "passed_time": 0.8574829541,
                        "remaining_time": 0.9166197095
                      },
                      {
                        "learn": [
                          0.672978766,
                          0.6000153522
                        ],
                        "iteration": 58,
                        "passed_time": 0.881796443,
                        "remaining_time": 0.9116878479
                      },
                      {
                        "learn": [
                          0.672978766,
                          0.6000153522
                        ],
                        "iteration": 59,
                        "passed_time": 0.9139574919,
                        "remaining_time": 0.9139574919
                      },
                      {
                        "learn": [
                          0.672978766,
                          0.6000153522
                        ],
                        "iteration": 60,
                        "passed_time": 0.951415714,
                        "remaining_time": 0.9202217562
                      },
                      {
                        "learn": [
                          0.672978766,
                          0.6000153522
                        ],
                        "iteration": 61,
                        "passed_time": 1.001158253,
                        "remaining_time": 0.9365673979
                      },
                      {
                        "learn": [
                          0.672978766,
                          0.6000153522
                        ],
                        "iteration": 62,
                        "passed_time": 1.058067885,
                        "remaining_time": 0.9572995151
                      },
                      {
                        "learn": [
                          0.672978766,
                          0.6000153522
                        ],
                        "iteration": 63,
                        "passed_time": 1.120468926,
                        "remaining_time": 0.9804103105
                      },
                      {
                        "learn": [
                          0.672978766,
                          0.6000153522
                        ],
                        "iteration": 64,
                        "passed_time": 1.184155765,
                        "remaining_time": 1.001977955
                      },
                      {
                        "learn": [
                          0.672978766,
                          0.6000153522
                        ],
                        "iteration": 65,
                        "passed_time": 1.207439043,
                        "remaining_time": 0.9879046719
                      },
                      {
                        "learn": [
                          0.672978766,
                          0.6000153522
                        ],
                        "iteration": 66,
                        "passed_time": 1.234704439,
                        "remaining_time": 0.9767064965
                      },
                      {
                        "learn": [
                          0.672978766,
                          0.6000153522
                        ],
                        "iteration": 67,
                        "passed_time": 1.264428183,
                        "remaining_time": 0.9669156694
                      },
                      {
                        "learn": [
                          0.672978766,
                          0.6000153522
                        ],
                        "iteration": 68,
                        "passed_time": 1.309697665,
                        "remaining_time": 0.9680374043
                      },
                      {
                        "learn": [
                          0.672978766,
                          0.6000153522
                        ],
                        "iteration": 69,
                        "passed_time": 1.340245049,
                        "remaining_time": 0.9573178923
                      },
                      {
                        "learn": [
                          0.672978766,
                          0.6000153522
                        ],
                        "iteration": 70,
                        "passed_time": 1.376652561,
                        "remaining_time": 0.9500841617
                      },
                      {
                        "learn": [
                          0.672978766,
                          0.6000153522
                        ],
                        "iteration": 71,
                        "passed_time": 1.426642909,
                        "remaining_time": 0.9510952727
                      },
                      {
                        "learn": [
                          0.672978766,
                          0.6000153522
                        ],
                        "iteration": 72,
                        "passed_time": 1.49865869,
                        "remaining_time": 0.9648898416
                      },
                      {
                        "learn": [
                          0.672978766,
                          0.6000153522
                        ],
                        "iteration": 73,
                        "passed_time": 1.535279537,
                        "remaining_time": 0.9543629557
                      },
                      {
                        "learn": [
                          0.672978766,
                          0.6000153522
                        ],
                        "iteration": 74,
                        "passed_time": 1.560064884,
                        "remaining_time": 0.9360389306
                      },
                      {
                        "learn": [
                          0.672978766,
                          0.6000153522
                        ],
                        "iteration": 75,
                        "passed_time": 1.588886201,
                        "remaining_time": 0.919881485
                      },
                      {
                        "learn": [
                          0.672978766,
                          0.6000153522
                        ],
                        "iteration": 76,
                        "passed_time": 1.615598024,
                        "remaining_time": 0.9022170782
                      },
                      {
                        "learn": [
                          0.672978766,
                          0.6000153522
                        ],
                        "iteration": 77,
                        "passed_time": 1.653805801,
                        "remaining_time": 0.8905108161
                      },
                      {
                        "learn": [
                          0.672978766,
                          0.6000153522
                        ],
                        "iteration": 78,
                        "passed_time": 1.717821702,
                        "remaining_time": 0.8915277189
                      },
                      {
                        "learn": [
                          0.672978766,
                          0.6000153522
                        ],
                        "iteration": 79,
                        "passed_time": 1.755102598,
                        "remaining_time": 0.8775512988
                      },
                      {
                        "learn": [
                          0.672978766,
                          0.6000153522
                        ],
                        "iteration": 80,
                        "passed_time": 1.826157064,
                        "remaining_time": 0.8792608085
                      },
                      {
                        "learn": [
                          0.672978766,
                          0.6000153522
                        ],
                        "iteration": 81,
                        "passed_time": 1.904928859,
                        "remaining_time": 0.8827719101
                      },
                      {
                        "learn": [
                          0.672978766,
                          0.6000153522
                        ],
                        "iteration": 82,
                        "passed_time": 1.987374546,
                        "remaining_time": 0.8859380508
                      },
                      {
                        "learn": [
                          0.672978766,
                          0.6000153522
                        ],
                        "iteration": 83,
                        "passed_time": 2.05562025,
                        "remaining_time": 0.8809801072
                      },
                      {
                        "learn": [
                          0.672978766,
                          0.6000153522
                        ],
                        "iteration": 84,
                        "passed_time": 2.100924561,
                        "remaining_time": 0.8650865838
                      },
                      {
                        "learn": [
                          0.672978766,
                          0.6000153522
                        ],
                        "iteration": 85,
                        "passed_time": 2.160399384,
                        "remaining_time": 0.8541113843
                      },
                      {
                        "learn": [
                          0.672978766,
                          0.6000153522
                        ],
                        "iteration": 86,
                        "passed_time": 2.199277835,
                        "remaining_time": 0.8342088338
                      },
                      {
                        "learn": [
                          0.672978766,
                          0.6000153522
                        ],
                        "iteration": 87,
                        "passed_time": 2.234067769,
                        "remaining_time": 0.8123882797
                      },
                      {
                        "learn": [
                          0.672978766,
                          0.6000153522
                        ],
                        "iteration": 88,
                        "passed_time": 2.282935389,
                        "remaining_time": 0.7951797424
                      },
                      {
                        "learn": [
                          0.672978766,
                          0.6000153522
                        ],
                        "iteration": 89,
                        "passed_time": 2.318794425,
                        "remaining_time": 0.7729314751
                      },
                      {
                        "learn": [
                          0.672978766,
                          0.6000153522
                        ],
                        "iteration": 90,
                        "passed_time": 2.354181296,
                        "remaining_time": 0.7502335999
                      },
                      {
                        "learn": [
                          0.672978766,
                          0.6000153522
                        ],
                        "iteration": 91,
                        "passed_time": 2.382466079,
                        "remaining_time": 0.7250983719
                      },
                      {
                        "learn": [
                          0.672978766,
                          0.6000153522
                        ],
                        "iteration": 92,
                        "passed_time": 2.410694379,
                        "remaining_time": 0.6998790131
                      },
                      {
                        "learn": [
                          0.672978766,
                          0.6000153522
                        ],
                        "iteration": 93,
                        "passed_time": 2.460689747,
                        "remaining_time": 0.6806163129
                      },
                      {
                        "learn": [
                          0.672978766,
                          0.6000153522
                        ],
                        "iteration": 94,
                        "passed_time": 2.494845015,
                        "remaining_time": 0.6565381618
                      },
                      {
                        "learn": [
                          0.672978766,
                          0.6000153522
                        ],
                        "iteration": 95,
                        "passed_time": 2.528353394,
                        "remaining_time": 0.6320883485
                      },
                      {
                        "learn": [
                          0.672978766,
                          0.6000153522
                        ],
                        "iteration": 96,
                        "passed_time": 2.563062681,
                        "remaining_time": 0.6077365119
                      },
                      {
                        "learn": [
                          0.672978766,
                          0.6000153522
                        ],
                        "iteration": 97,
                        "passed_time": 2.605971947,
                        "remaining_time": 0.5850141105
                      },
                      {
                        "learn": [
                          0.672978766,
                          0.6000153522
                        ],
                        "iteration": 98,
                        "passed_time": 2.648008019,
                        "remaining_time": 0.5616986707
                      },
                      {
                        "learn": [
                          0.672978766,
                          0.6000153522
                        ],
                        "iteration": 99,
                        "passed_time": 2.686548855,
                        "remaining_time": 0.537309771
                      },
                      {
                        "learn": [
                          0.672978766,
                          0.6000153522
                        ],
                        "iteration": 100,
                        "passed_time": 2.722296046,
                        "remaining_time": 0.5121150978
                      },
                      {
                        "learn": [
                          0.672978766,
                          0.6000153522
                        ],
                        "iteration": 101,
                        "passed_time": 2.757062695,
                        "remaining_time": 0.4865404757
                      },
                      {
                        "learn": [
                          0.672978766,
                          0.6000153522
                        ],
                        "iteration": 102,
                        "passed_time": 2.790532107,
                        "remaining_time": 0.4605732603
                      },
                      {
                        "learn": [
                          0.672978766,
                          0.6000153522
                        ],
                        "iteration": 103,
                        "passed_time": 2.841127213,
                        "remaining_time": 0.4370964943
                      },
                      {
                        "learn": [
                          0.672978766,
                          0.6000153522
                        ],
                        "iteration": 104,
                        "passed_time": 2.887715808,
                        "remaining_time": 0.4125308297
                      },
                      {
                        "learn": [
                          0.672978766,
                          0.6000153522
                        ],
                        "iteration": 105,
                        "passed_time": 2.963314429,
                        "remaining_time": 0.391381151
                      },
                      {
                        "learn": [
                          0.672978766,
                          0.6000153522
                        ],
                        "iteration": 106,
                        "passed_time": 3.025397372,
                        "remaining_time": 0.3675716433
                      },
                      {
                        "learn": [
                          0.672978766,
                          0.6000153522
                        ],
                        "iteration": 107,
                        "passed_time": 3.064276208,
                        "remaining_time": 0.3404751343
                      },
                      {
                        "learn": [
                          0.672978766,
                          0.6000153522
                        ],
                        "iteration": 108,
                        "passed_time": 3.145338214,
                        "remaining_time": 0.3174194528
                      },
                      {
                        "learn": [
                          0.672978766,
                          0.6000153522
                        ],
                        "iteration": 109,
                        "passed_time": 3.198219994,
                        "remaining_time": 0.2907472722
                      },
                      {
                        "learn": [
                          0.672978766,
                          0.6000153522
                        ],
                        "iteration": 110,
                        "passed_time": 3.233654413,
                        "remaining_time": 0.2621881956
                      },
                      {
                        "learn": [
                          0.672978766,
                          0.6000153522
                        ],
                        "iteration": 111,
                        "passed_time": 3.270455177,
                        "remaining_time": 0.2336039412
                      },
                      {
                        "learn": [
                          0.672978766,
                          0.6000153522
                        ],
                        "iteration": 112,
                        "passed_time": 3.312448879,
                        "remaining_time": 0.2051959483
                      },
                      {
                        "learn": [
                          0.672978766,
                          0.6000153522
                        ],
                        "iteration": 113,
                        "passed_time": 3.358645578,
                        "remaining_time": 0.1767708199
                      },
                      {
                        "learn": [
                          0.672978766,
                          0.6000153522
                        ],
                        "iteration": 114,
                        "passed_time": 3.39075954,
                        "remaining_time": 0.1474243278
                      },
                      {
                        "learn": [
                          0.672978766,
                          0.6000153522
                        ],
                        "iteration": 115,
                        "passed_time": 3.429474995,
                        "remaining_time": 0.1182577585
                      },
                      {
                        "learn": [
                          0.672978766,
                          0.6000153522
                        ],
                        "iteration": 116,
                        "passed_time": 3.459519093,
                        "remaining_time": 0.08870561778
                      },
                      {
                        "learn": [
                          0.672978766,
                          0.6000153522
                        ],
                        "iteration": 117,
                        "passed_time": 3.514412688,
                        "remaining_time": 0.05956631675
                      },
                      {
                        "learn": [
                          0.672978766,
                          0.6000153522
                        ],
                        "iteration": 118,
                        "passed_time": 3.542292728,
                        "remaining_time": 0.02976716578
                      },
                      {
                        "learn": [
                          0.672978766,
                          0.6000153522
                        ],
                        "iteration": 119,
                        "passed_time": 3.582771499,
                        "remaining_time": 0
                      }
                    ],
                    "meta": {
                      "test_sets": [],
                      "test_metrics": [],
                      "learn_metrics": [
                        {
                          "best_value": "Min",
                          "name": "Logloss"
                        },
                        {
                          "best_value": "Max",
                          "name": "Accuracy"
                        }
                      ],
                      "launch_mode": "Train",
                      "parameters": "",
                      "iteration_count": 120,
                      "learn_sets": [
                        "learn"
                      ],
                      "name": "experiment"
                    }
                  }
                }
              }
            },
            "layout": "IPY_MODEL_652636e609d3466f8a90b99f92e6271e"
          }
        }
      }
    }
  },
  "nbformat": 4,
  "nbformat_minor": 0
}