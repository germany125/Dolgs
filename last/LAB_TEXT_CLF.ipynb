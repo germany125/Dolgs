{
  "nbformat": 4,
  "nbformat_minor": 0,
  "metadata": {
    "colab": {
      "provenance": []
    },
    "kernelspec": {
      "name": "python3",
      "display_name": "Python 3"
    },
    "language_info": {
      "name": "python"
    }
  },
  "cells": [
    {
      "cell_type": "markdown",
      "source": [
        "* набор данных минимум 1000 строк, в идеале от 10k\n",
        "* классика - нормализация, регистр, лемматизация\n",
        "* векторизация двумя способами count vectorizer/tf-idf vectorizer (допбаллы за добавление биграмм/триграмм)\n",
        "* построить сеть с обычными линейными(Dense) слоями - для единой структуры сети проверить данные с разными векторами (обучение, проверка на тестовых данных) - с учетом метрики какой способ векторизации оказался более эффективен?\n",
        "* для лучшей модели построить матрицу путаницы и отчет о классификации (classification report) - сделать выводы о качестве работы классификатора в разрезе классов\n",
        "* токенизировать нормализованный текст с помощью Tokenizer(Keras) и построить сеть с начальным Embbeding слоем - обучите сеть - лучше она той, что у вас была лучшей при обычной векторизации?"
      ],
      "metadata": {
        "id": "SKi8X9Gvas5R"
      }
    },
    {
      "cell_type": "code",
      "execution_count": 1,
      "metadata": {
        "id": "D7Otp4KdaS6D"
      },
      "outputs": [],
      "source": [
        "import pandas as pd\n",
        "import nltk\n",
        "from nltk.corpus import stopwords\n",
        "from nltk.tokenize import word_tokenize\n",
        "from nltk.stem import WordNetLemmatizer\n",
        "import re\n",
        "\n",
        "import kagglehub\n",
        "from kagglehub import KaggleDatasetAdapter"
      ]
    },
    {
      "cell_type": "code",
      "source": [
        "nltk.download('wordnet')\n",
        "nltk.download('stopwords')\n",
        "nltk.download('punkt_tab')"
      ],
      "metadata": {
        "colab": {
          "base_uri": "https://localhost:8080/"
        },
        "id": "ULOJebAraq7y",
        "outputId": "ec0c83d6-3457-41d8-c719-380890012035"
      },
      "execution_count": 2,
      "outputs": [
        {
          "output_type": "stream",
          "name": "stderr",
          "text": [
            "[nltk_data] Downloading package wordnet to /root/nltk_data...\n",
            "[nltk_data] Downloading package stopwords to /root/nltk_data...\n",
            "[nltk_data]   Unzipping corpora/stopwords.zip.\n",
            "[nltk_data] Downloading package punkt_tab to /root/nltk_data...\n",
            "[nltk_data]   Unzipping tokenizers/punkt_tab.zip.\n"
          ]
        },
        {
          "output_type": "execute_result",
          "data": {
            "text/plain": [
              "True"
            ]
          },
          "metadata": {},
          "execution_count": 2
        }
      ]
    },
    {
      "cell_type": "code",
      "source": [
        "df = kagglehub.load_dataset(\n",
        "    KaggleDatasetAdapter.PANDAS,\n",
        "    \"nitishjolly/news-detection-fake-or-real-dataset\",\n",
        "    \"fake_and_real_news.csv\"  # Указываем конкретный файл\n",
        ")\n",
        "\n",
        "print(\"First 5 records:\", df.head())\n",
        "print(\"\\nDataset info:\")\n",
        "print(df.info())"
      ],
      "metadata": {
        "colab": {
          "base_uri": "https://localhost:8080/"
        },
        "id": "kLG1SY1ZbP0x",
        "outputId": "a68d0b11-1bce-4515-85c9-aeb1d36964be"
      },
      "execution_count": 3,
      "outputs": [
        {
          "output_type": "stream",
          "name": "stderr",
          "text": [
            "<ipython-input-3-5e04b9587976>:1: DeprecationWarning: load_dataset is deprecated and will be removed in a future version.\n",
            "  df = kagglehub.load_dataset(\n"
          ]
        },
        {
          "output_type": "stream",
          "name": "stdout",
          "text": [
            "First 5 records:                                                 Text label\n",
            "0   Top Trump Surrogate BRUTALLY Stabs Him In The...  Fake\n",
            "1  U.S. conservative leader optimistic of common ...  Real\n",
            "2  Trump proposes U.S. tax overhaul, stirs concer...  Real\n",
            "3   Court Forces Ohio To Allow Millions Of Illega...  Fake\n",
            "4  Democrats say Trump agrees to work on immigrat...  Real\n",
            "\n",
            "Dataset info:\n",
            "<class 'pandas.core.frame.DataFrame'>\n",
            "RangeIndex: 9900 entries, 0 to 9899\n",
            "Data columns (total 2 columns):\n",
            " #   Column  Non-Null Count  Dtype \n",
            "---  ------  --------------  ----- \n",
            " 0   Text    9900 non-null   object\n",
            " 1   label   9900 non-null   object\n",
            "dtypes: object(2)\n",
            "memory usage: 154.8+ KB\n",
            "None\n"
          ]
        }
      ]
    },
    {
      "cell_type": "code",
      "source": [
        "def preprocess_text(text):\n",
        "    # Проверка на NaN (если есть пропущенные значения)\n",
        "    if pd.isna(text):\n",
        "        return \"\"\n",
        "\n",
        "    # 1. Приведение к нижнему регистру\n",
        "    text = text.lower()\n",
        "\n",
        "    # 2. Удаление спецсимволов, цифр и лишних пробелов\n",
        "    text = re.sub(r'[^a-zA-Z\\s]', '', text)\n",
        "    text = re.sub(r'\\s+', ' ', text).strip()\n",
        "\n",
        "    # 3. Токенизация\n",
        "    tokens = word_tokenize(text)\n",
        "\n",
        "    # 4. Удаление стоп-слов (английских)\n",
        "    stop_words = set(stopwords.words('english'))\n",
        "    tokens = [word for word in tokens if word not in stop_words]\n",
        "\n",
        "    # 5. Лемматизация (приведение слов к базовой форме)\n",
        "    lemmatizer = WordNetLemmatizer()\n",
        "    tokens = [lemmatizer.lemmatize(word) for word in tokens]\n",
        "\n",
        "    # Возвращаем обработанный текст как строку\n",
        "    return ' '.join(tokens)\n"
      ],
      "metadata": {
        "id": "Q4ETw9lZbWKt"
      },
      "execution_count": 4,
      "outputs": []
    },
    {
      "cell_type": "code",
      "source": [
        "# Применяем функцию к столбцу Text и создаём новый столбец processed_text\n",
        "df['processed_text'] = df['Text'].apply(preprocess_text)\n",
        "\n",
        "# Проверяем результат\n",
        "print(\"Исходный текст:\\n\", df['Text'].head())\n",
        "print(\"\\nОбработанный текст:\\n\", df['processed_text'].head())"
      ],
      "metadata": {
        "colab": {
          "base_uri": "https://localhost:8080/"
        },
        "id": "TyeBzMvcdaDC",
        "outputId": "0eefe842-809b-4a22-c045-ab97ff1a288b"
      },
      "execution_count": 5,
      "outputs": [
        {
          "output_type": "stream",
          "name": "stdout",
          "text": [
            "Исходный текст:\n",
            " 0     Top Trump Surrogate BRUTALLY Stabs Him In The...\n",
            "1    U.S. conservative leader optimistic of common ...\n",
            "2    Trump proposes U.S. tax overhaul, stirs concer...\n",
            "3     Court Forces Ohio To Allow Millions Of Illega...\n",
            "4    Democrats say Trump agrees to work on immigrat...\n",
            "Name: Text, dtype: object\n",
            "\n",
            "Обработанный текст:\n",
            " 0    top trump surrogate brutally stab back he path...\n",
            "1    u conservative leader optimistic common ground...\n",
            "2    trump proposes u tax overhaul stir concern def...\n",
            "3    court force ohio allow million illegally purge...\n",
            "4    democrat say trump agrees work immigration bil...\n",
            "Name: processed_text, dtype: object\n"
          ]
        }
      ]
    },
    {
      "cell_type": "code",
      "source": [
        "from sklearn.feature_extraction.text import CountVectorizer, TfidfVectorizer\n",
        "\n",
        "# CountVectorizer с биграммами\n",
        "count_vectorizer = CountVectorizer(max_features=5000, ngram_range=(1,2))\n",
        "X_count = count_vectorizer.fit_transform(df['processed_text'])\n",
        "\n",
        "# TF-IDF с биграммами\n",
        "tfidf_vectorizer = TfidfVectorizer(max_features=5000, ngram_range=(1,2))\n",
        "X_tfidf = tfidf_vectorizer.fit_transform(df['processed_text'])\n",
        "\n",
        "# Кодирование меток\n",
        "from sklearn.preprocessing import LabelEncoder\n",
        "encoder = LabelEncoder()\n",
        "y = encoder.fit_transform(df['label'])"
      ],
      "metadata": {
        "id": "i9epbtUcbY53"
      },
      "execution_count": 6,
      "outputs": []
    },
    {
      "cell_type": "code",
      "source": [
        "from sklearn.model_selection import train_test_split\n",
        "from keras.models import Sequential\n",
        "from keras.layers import Dense\n",
        "from keras.utils import to_categorical"
      ],
      "metadata": {
        "id": "5IHS8fxnbZ7U"
      },
      "execution_count": 7,
      "outputs": []
    },
    {
      "cell_type": "code",
      "source": [
        "# Преобразуем y в one-hot encoding\n",
        "y_categorical = to_categorical(y)"
      ],
      "metadata": {
        "id": "GjtzCEIFbhK7"
      },
      "execution_count": 8,
      "outputs": []
    },
    {
      "cell_type": "code",
      "source": [
        "def build_model(input_dim):\n",
        "    model = Sequential()\n",
        "    model.add(Dense(512, activation='relu', input_dim=input_dim))\n",
        "    model.add(Dense(256, activation='relu'))\n",
        "    model.add(Dense(64, activation='relu'))\n",
        "    model.add(Dense(2, activation='softmax'))  # 2 выхода - Fake/Real\n",
        "    model.compile(optimizer='adam',\n",
        "                  loss='categorical_crossentropy',\n",
        "                  metrics=['accuracy'])\n",
        "    return model"
      ],
      "metadata": {
        "id": "Abh7jQgdbhsz"
      },
      "execution_count": 9,
      "outputs": []
    },
    {
      "cell_type": "code",
      "source": [
        "RANDOM_STATE = 42\n",
        "TEST_SIZE = 0.2"
      ],
      "metadata": {
        "id": "yyNgaB5OjfT2"
      },
      "execution_count": 10,
      "outputs": []
    },
    {
      "cell_type": "code",
      "source": [
        "# Для CountVectorizer\n",
        "X_train_count, X_test_count, y_train, y_test = train_test_split(\n",
        "    X_count, y_categorical, test_size=TEST_SIZE, random_state=RANDOM_STATE\n",
        ")\n",
        "model_count = build_model(X_count.shape[1])\n",
        "history_count = model_count.fit(\n",
        "    X_train_count.toarray(), y_train,\n",
        "    epochs=5,\n",
        "    batch_size=32,\n",
        "    validation_split=0.2\n",
        ")\n",
        "\n"
      ],
      "metadata": {
        "colab": {
          "base_uri": "https://localhost:8080/"
        },
        "id": "NjJq8y4RbkJi",
        "outputId": "b5f16789-e1a0-4018-e56e-5fd50f1f10dd"
      },
      "execution_count": 11,
      "outputs": [
        {
          "output_type": "stream",
          "name": "stderr",
          "text": [
            "/usr/local/lib/python3.11/dist-packages/keras/src/layers/core/dense.py:87: UserWarning: Do not pass an `input_shape`/`input_dim` argument to a layer. When using Sequential models, prefer using an `Input(shape)` object as the first layer in the model instead.\n",
            "  super().__init__(activity_regularizer=activity_regularizer, **kwargs)\n"
          ]
        },
        {
          "output_type": "stream",
          "name": "stdout",
          "text": [
            "Epoch 1/5\n",
            "\u001b[1m198/198\u001b[0m \u001b[32m━━━━━━━━━━━━━━━━━━━━\u001b[0m\u001b[37m\u001b[0m \u001b[1m14s\u001b[0m 63ms/step - accuracy: 0.9594 - loss: 0.0999 - val_accuracy: 0.9981 - val_loss: 0.0126\n",
            "Epoch 2/5\n",
            "\u001b[1m198/198\u001b[0m \u001b[32m━━━━━━━━━━━━━━━━━━━━\u001b[0m\u001b[37m\u001b[0m \u001b[1m16s\u001b[0m 43ms/step - accuracy: 0.9988 - loss: 0.0074 - val_accuracy: 0.9937 - val_loss: 0.0287\n",
            "Epoch 3/5\n",
            "\u001b[1m198/198\u001b[0m \u001b[32m━━━━━━━━━━━━━━━━━━━━\u001b[0m\u001b[37m\u001b[0m \u001b[1m10s\u001b[0m 41ms/step - accuracy: 1.0000 - loss: 5.5348e-04 - val_accuracy: 0.9937 - val_loss: 0.0366\n",
            "Epoch 4/5\n",
            "\u001b[1m198/198\u001b[0m \u001b[32m━━━━━━━━━━━━━━━━━━━━\u001b[0m\u001b[37m\u001b[0m \u001b[1m8s\u001b[0m 42ms/step - accuracy: 1.0000 - loss: 2.6376e-05 - val_accuracy: 0.9968 - val_loss: 0.0204\n",
            "Epoch 5/5\n",
            "\u001b[1m198/198\u001b[0m \u001b[32m━━━━━━━━━━━━━━━━━━━━\u001b[0m\u001b[37m\u001b[0m \u001b[1m11s\u001b[0m 44ms/step - accuracy: 1.0000 - loss: 7.6391e-06 - val_accuracy: 0.9968 - val_loss: 0.0213\n"
          ]
        }
      ]
    },
    {
      "cell_type": "code",
      "source": [
        "import joblib\n",
        "import tensorflow as tf\n",
        "from pathlib import Path\n",
        "\n",
        "# Создаем папку для сохранения модели\n",
        "MODEL_DIR = Path(\"fake_news_detector\")\n",
        "MODEL_DIR.mkdir(exist_ok=True)\n",
        "\n",
        "# Сохраняем модель\n",
        "model_count.save(MODEL_DIR / \"model.h5\")\n",
        "\n",
        "# Сохраняем векторйзер и энкодер\n",
        "joblib.dump(tfidf_vectorizer, MODEL_DIR / \"tfidf_vectorizer.pkl\")\n",
        "joblib.dump(encoder, MODEL_DIR / \"label_encoder.pkl\")\n",
        "\n",
        "print(\"Модель и компоненты сохранены в папку:\", MODEL_DIR)"
      ],
      "metadata": {
        "colab": {
          "base_uri": "https://localhost:8080/"
        },
        "id": "tXrp69Pf2GRX",
        "outputId": "0c070339-f5b1-4627-8281-940631cf2933"
      },
      "execution_count": 12,
      "outputs": [
        {
          "output_type": "stream",
          "name": "stderr",
          "text": [
            "WARNING:absl:You are saving your model as an HDF5 file via `model.save()` or `keras.saving.save_model(model)`. This file format is considered legacy. We recommend using instead the native Keras format, e.g. `model.save('my_model.keras')` or `keras.saving.save_model(model, 'my_model.keras')`. \n"
          ]
        },
        {
          "output_type": "stream",
          "name": "stdout",
          "text": [
            "Модель и компоненты сохранены в папку: fake_news_detector\n"
          ]
        }
      ]
    },
    {
      "cell_type": "code",
      "source": [
        "# Для TF-IDF\n",
        "X_train_tfidf, X_test_tfidf, y_train, y_test = train_test_split(\n",
        "    X_tfidf, y_categorical, test_size=TEST_SIZE, random_state=RANDOM_STATE\n",
        ")\n",
        "model_tfidf = build_model(X_tfidf.shape[1])\n",
        "history_tfidf = model_tfidf.fit(\n",
        "    X_train_tfidf.toarray(), y_train,\n",
        "    epochs=5,\n",
        "    batch_size=32,\n",
        "    validation_split=0.2\n",
        ")"
      ],
      "metadata": {
        "colab": {
          "base_uri": "https://localhost:8080/"
        },
        "id": "SSs_wXUdbsxF",
        "outputId": "55003054-1379-4955-8d3e-db9b6729c82b"
      },
      "execution_count": null,
      "outputs": [
        {
          "output_type": "stream",
          "name": "stdout",
          "text": [
            "Epoch 1/5\n",
            "\u001b[1m198/198\u001b[0m \u001b[32m━━━━━━━━━━━━━━━━━━━━\u001b[0m\u001b[37m\u001b[0m \u001b[1m10s\u001b[0m 42ms/step - accuracy: 0.9195 - loss: 0.2023 - val_accuracy: 0.9962 - val_loss: 0.0154\n",
            "Epoch 2/5\n",
            "\u001b[1m198/198\u001b[0m \u001b[32m━━━━━━━━━━━━━━━━━━━━\u001b[0m\u001b[37m\u001b[0m \u001b[1m9s\u001b[0m 44ms/step - accuracy: 0.9995 - loss: 0.0020 - val_accuracy: 0.9956 - val_loss: 0.0149\n",
            "Epoch 3/5\n",
            "\u001b[1m198/198\u001b[0m \u001b[32m━━━━━━━━━━━━━━━━━━━━\u001b[0m\u001b[37m\u001b[0m \u001b[1m7s\u001b[0m 37ms/step - accuracy: 0.9997 - loss: 9.3623e-04 - val_accuracy: 0.9962 - val_loss: 0.0162\n",
            "Epoch 4/5\n",
            "\u001b[1m198/198\u001b[0m \u001b[32m━━━━━━━━━━━━━━━━━━━━\u001b[0m\u001b[37m\u001b[0m \u001b[1m8s\u001b[0m 42ms/step - accuracy: 1.0000 - loss: 5.7897e-05 - val_accuracy: 0.9981 - val_loss: 0.0147\n",
            "Epoch 5/5\n",
            "\u001b[1m198/198\u001b[0m \u001b[32m━━━━━━━━━━━━━━━━━━━━\u001b[0m\u001b[37m\u001b[0m \u001b[1m8s\u001b[0m 42ms/step - accuracy: 1.0000 - loss: 1.3823e-05 - val_accuracy: 0.9981 - val_loss: 0.0153\n"
          ]
        }
      ]
    },
    {
      "cell_type": "code",
      "source": [
        "from sklearn.metrics import confusion_matrix, classification_report\n",
        "import seaborn as sns\n",
        "import matplotlib.pyplot as plt"
      ],
      "metadata": {
        "id": "Uxg5owOfbog0"
      },
      "execution_count": null,
      "outputs": []
    },
    {
      "cell_type": "code",
      "source": [
        "# Для TF-IDF модели используем правильные тестовые данные\n",
        "y_pred = model_tfidf.predict(X_test_tfidf.toarray())\n",
        "y_pred_classes = y_pred.argmax(axis=-1)\n",
        "y_true = y_test.argmax(axis=-1)\n",
        "\n",
        "# Матрица путаницы\n",
        "cm = confusion_matrix(y_true, y_pred_classes)\n",
        "plt.figure(figsize=(8,6))\n",
        "sns.heatmap(cm, annot=True, fmt='d', cmap='Blues',\n",
        "            xticklabels=encoder.classes_,\n",
        "            yticklabels=encoder.classes_)\n",
        "plt.xlabel('Predicted')\n",
        "plt.ylabel('Actual')\n",
        "plt.title('Confusion Matrix for TF-IDF Model')\n",
        "plt.show()\n",
        "\n",
        "# Classification report\n",
        "print(\"Classification Report for TF-IDF Model:\")\n",
        "print(classification_report(y_true, y_pred_classes, target_names=encoder.classes_))"
      ],
      "metadata": {
        "colab": {
          "base_uri": "https://localhost:8080/",
          "height": 755
        },
        "id": "NZhuNVWObqNK",
        "outputId": "2032da12-9531-4783-e33f-92afc5c44a20"
      },
      "execution_count": null,
      "outputs": [
        {
          "output_type": "stream",
          "name": "stdout",
          "text": [
            "\u001b[1m62/62\u001b[0m \u001b[32m━━━━━━━━━━━━━━━━━━━━\u001b[0m\u001b[37m\u001b[0m \u001b[1m1s\u001b[0m 8ms/step\n"
          ]
        },
        {
          "output_type": "display_data",
          "data": {
            "text/plain": [
              "<Figure size 800x600 with 2 Axes>"
            ],
            "image/png": "[encoded data removed]"
          },
          "metadata": {}
        },
        {
          "output_type": "stream",
          "name": "stdout",
          "text": [
            "Classification Report for TF-IDF Model:\n",
            "              precision    recall  f1-score   support\n",
            "\n",
            "        Fake       1.00      0.99      1.00       973\n",
            "        Real       1.00      1.00      1.00      1007\n",
            "\n",
            "    accuracy                           1.00      1980\n",
            "   macro avg       1.00      1.00      1.00      1980\n",
            "weighted avg       1.00      1.00      1.00      1980\n",
            "\n"
          ]
        }
      ]
    },
    {
      "cell_type": "code",
      "source": [
        "!pip install tensorflow"
      ],
      "metadata": {
        "colab": {
          "base_uri": "https://localhost:8080/"
        },
        "id": "S3YwL84ofwN9",
        "outputId": "0cf99dc7-9ca0-4f6a-f54a-2346f87205d5"
      },
      "execution_count": null,
      "outputs": [
        {
          "output_type": "stream",
          "name": "stdout",
          "text": [
            "Requirement already satisfied: tensorflow in /usr/local/lib/python3.11/dist-packages (2.18.0)\n",
            "Requirement already satisfied: absl-py>=1.0.0 in /usr/local/lib/python3.11/dist-packages (from tensorflow) (1.4.0)\n",
            "Requirement already satisfied: astunparse>=1.6.0 in /usr/local/lib/python3.11/dist-packages (from tensorflow) (1.6.3)\n",
            "Requirement already satisfied: flatbuffers>=24.3.25 in /usr/local/lib/python3.11/dist-packages (from tensorflow) (25.2.10)\n",
            "Requirement already satisfied: gast!=0.5.0,!=0.5.1,!=0.5.2,>=0.2.1 in /usr/local/lib/python3.11/dist-packages (from tensorflow) (0.6.0)\n",
            "Requirement already satisfied: google-pasta>=0.1.1 in /usr/local/lib/python3.11/dist-packages (from tensorflow) (0.2.0)\n",
            "Requirement already satisfied: libclang>=13.0.0 in /usr/local/lib/python3.11/dist-packages (from tensorflow) (18.1.1)\n",
            "Requirement already satisfied: opt-einsum>=2.3.2 in /usr/local/lib/python3.11/dist-packages (from tensorflow) (3.4.0)\n",
            "Requirement already satisfied: packaging in /usr/local/lib/python3.11/dist-packages (from tensorflow) (24.2)\n",
            "Requirement already satisfied: protobuf!=4.21.0,!=4.21.1,!=4.21.2,!=4.21.3,!=4.21.4,!=4.21.5,<6.0.0dev,>=3.20.3 in /usr/local/lib/python3.11/dist-packages (from tensorflow) (5.29.4)\n",
            "Requirement already satisfied: requests<3,>=2.21.0 in /usr/local/lib/python3.11/dist-packages (from tensorflow) (2.32.3)\n",
            "Requirement already satisfied: setuptools in /usr/local/lib/python3.11/dist-packages (from tensorflow) (75.2.0)\n",
            "Requirement already satisfied: six>=1.12.0 in /usr/local/lib/python3.11/dist-packages (from tensorflow) (1.17.0)\n",
            "Requirement already satisfied: termcolor>=1.1.0 in /usr/local/lib/python3.11/dist-packages (from tensorflow) (3.1.0)\n",
            "Requirement already satisfied: typing-extensions>=3.6.6 in /usr/local/lib/python3.11/dist-packages (from tensorflow) (4.13.2)\n",
            "Requirement already satisfied: wrapt>=1.11.0 in /usr/local/lib/python3.11/dist-packages (from tensorflow) (1.17.2)\n",
            "Requirement already satisfied: grpcio<2.0,>=1.24.3 in /usr/local/lib/python3.11/dist-packages (from tensorflow) (1.71.0)\n",
            "Requirement already satisfied: tensorboard<2.19,>=2.18 in /usr/local/lib/python3.11/dist-packages (from tensorflow) (2.18.0)\n",
            "Requirement already satisfied: keras>=3.5.0 in /usr/local/lib/python3.11/dist-packages (from tensorflow) (3.8.0)\n",
            "Requirement already satisfied: numpy<2.1.0,>=1.26.0 in /usr/local/lib/python3.11/dist-packages (from tensorflow) (2.0.2)\n",
            "Requirement already satisfied: h5py>=3.11.0 in /usr/local/lib/python3.11/dist-packages (from tensorflow) (3.13.0)\n",
            "Requirement already satisfied: ml-dtypes<0.5.0,>=0.4.0 in /usr/local/lib/python3.11/dist-packages (from tensorflow) (0.4.1)\n",
            "Requirement already satisfied: tensorflow-io-gcs-filesystem>=0.23.1 in /usr/local/lib/python3.11/dist-packages (from tensorflow) (0.37.1)\n",
            "Requirement already satisfied: wheel<1.0,>=0.23.0 in /usr/local/lib/python3.11/dist-packages (from astunparse>=1.6.0->tensorflow) (0.45.1)\n",
            "Requirement already satisfied: rich in /usr/local/lib/python3.11/dist-packages (from keras>=3.5.0->tensorflow) (13.9.4)\n",
            "Requirement already satisfied: namex in /usr/local/lib/python3.11/dist-packages (from keras>=3.5.0->tensorflow) (0.0.9)\n",
            "Requirement already satisfied: optree in /usr/local/lib/python3.11/dist-packages (from keras>=3.5.0->tensorflow) (0.15.0)\n",
            "Requirement already satisfied: charset-normalizer<4,>=2 in /usr/local/lib/python3.11/dist-packages (from requests<3,>=2.21.0->tensorflow) (3.4.1)\n",
            "Requirement already satisfied: idna<4,>=2.5 in /usr/local/lib/python3.11/dist-packages (from requests<3,>=2.21.0->tensorflow) (3.10)\n",
            "Requirement already satisfied: urllib3<3,>=1.21.1 in /usr/local/lib/python3.11/dist-packages (from requests<3,>=2.21.0->tensorflow) (2.4.0)\n",
            "Requirement already satisfied: certifi>=2017.4.17 in /usr/local/lib/python3.11/dist-packages (from requests<3,>=2.21.0->tensorflow) (2025.4.26)\n",
            "Requirement already satisfied: markdown>=2.6.8 in /usr/local/lib/python3.11/dist-packages (from tensorboard<2.19,>=2.18->tensorflow) (3.8)\n",
            "Requirement already satisfied: tensorboard-data-server<0.8.0,>=0.7.0 in /usr/local/lib/python3.11/dist-packages (from tensorboard<2.19,>=2.18->tensorflow) (0.7.2)\n",
            "Requirement already satisfied: werkzeug>=1.0.1 in /usr/local/lib/python3.11/dist-packages (from tensorboard<2.19,>=2.18->tensorflow) (3.1.3)\n",
            "Requirement already satisfied: MarkupSafe>=2.1.1 in /usr/local/lib/python3.11/dist-packages (from werkzeug>=1.0.1->tensorboard<2.19,>=2.18->tensorflow) (3.0.2)\n",
            "Requirement already satisfied: markdown-it-py>=2.2.0 in /usr/local/lib/python3.11/dist-packages (from rich->keras>=3.5.0->tensorflow) (3.0.0)\n",
            "Requirement already satisfied: pygments<3.0.0,>=2.13.0 in /usr/local/lib/python3.11/dist-packages (from rich->keras>=3.5.0->tensorflow) (2.19.1)\n",
            "Requirement already satisfied: mdurl~=0.1 in /usr/local/lib/python3.11/dist-packages (from markdown-it-py>=2.2.0->rich->keras>=3.5.0->tensorflow) (0.1.2)\n"
          ]
        }
      ]
    },
    {
      "cell_type": "code",
      "source": [
        "from tensorflow.keras.preprocessing.text import Tokenizer\n",
        "from tensorflow.keras.utils import pad_sequences"
      ],
      "metadata": {
        "id": "Kp1ALKv4bvgO"
      },
      "execution_count": null,
      "outputs": []
    },
    {
      "cell_type": "code",
      "source": [
        "# Токенизация\n",
        "tokenizer = Tokenizer(num_words=5000)\n",
        "tokenizer.fit_on_texts(df['processed_text'])\n",
        "X_seq = tokenizer.texts_to_sequences(df['processed_text'])\n",
        "X_pad = pad_sequences(X_seq, maxlen=100)"
      ],
      "metadata": {
        "id": "nznMvD9GbxYk"
      },
      "execution_count": null,
      "outputs": []
    },
    {
      "cell_type": "code",
      "source": [
        "from tensorflow.keras import layers  # Добавляем этот импорт"
      ],
      "metadata": {
        "id": "tUluUEJ_gCJy"
      },
      "execution_count": null,
      "outputs": []
    },
    {
      "cell_type": "code",
      "source": [
        "# Построение модели с Embedding\n",
        "embedding_dim = 100\n",
        "model_embed = Sequential()\n",
        "model_embed.add(layers.Embedding(input_dim=5000, output_dim=embedding_dim, input_length=100))\n",
        "model_embed.add(layers.Flatten())\n",
        "model_embed.add(Dense(64, activation='relu'))\n",
        "model_embed.add(Dense(2, activation='softmax'))\n",
        "model_embed.compile(optimizer='adam', loss='categorical_crossentropy', metrics=['accuracy'])"
      ],
      "metadata": {
        "colab": {
          "base_uri": "https://localhost:8080/"
        },
        "id": "uU0zVOqlbzqn",
        "outputId": "1d82618e-94ca-4329-e105-a1510d862cc9"
      },
      "execution_count": null,
      "outputs": [
        {
          "output_type": "stream",
          "name": "stderr",
          "text": [
            "/usr/local/lib/python3.11/dist-packages/keras/src/layers/core/embedding.py:90: UserWarning: Argument `input_length` is deprecated. Just remove it.\n",
            "  warnings.warn(\n"
          ]
        }
      ]
    },
    {
      "cell_type": "code",
      "source": [
        "from tensorflow.keras.layers import Embedding, GlobalAveragePooling1D, Flatten"
      ],
      "metadata": {
        "id": "lucJZr5Tl-RH"
      },
      "execution_count": null,
      "outputs": []
    },
    {
      "cell_type": "code",
      "source": [
        "def build_model_embedding(vocab_size=5000, embedding_dim=100, max_length=100):\n",
        "    model = Sequential([\n",
        "        Embedding(input_dim=vocab_size,\n",
        "                 output_dim=embedding_dim,\n",
        "                 input_length=max_length),\n",
        "        GlobalAveragePooling1D(),  # Лучше чем Flatten для текстов\n",
        "        Dense(64, activation='relu'),\n",
        "        Dense(2, activation='softmax')\n",
        "    ])\n",
        "    model.compile(optimizer='adam',\n",
        "                 loss='categorical_crossentropy',\n",
        "                 metrics=['accuracy'])\n",
        "    return model"
      ],
      "metadata": {
        "id": "I9cyvIuDmACU"
      },
      "execution_count": null,
      "outputs": []
    },
    {
      "cell_type": "code",
      "source": [
        "# Токенизация текста (добавьте перед этим)\n",
        "tokenizer = Tokenizer(num_words=5000)\n",
        "tokenizer.fit_on_texts(df['processed_text'])\n",
        "X_seq = tokenizer.texts_to_sequences(df['processed_text'])\n",
        "X_pad = pad_sequences(X_seq, maxlen=100)"
      ],
      "metadata": {
        "id": "NaJndYc0mCta"
      },
      "execution_count": null,
      "outputs": []
    },
    {
      "cell_type": "code",
      "source": [
        "# Теперь можно создать и обучить модель\n",
        "model_embed = build_model_embedding()\n",
        "history_embed = model_embed.fit(\n",
        "    X_train_pad, y_train,\n",
        "    epochs=5,\n",
        "    batch_size=32,\n",
        "    validation_data=(X_test_pad, y_test)  # Лучше использовать validation_data чем validation_split\n",
        ")"
      ],
      "metadata": {
        "colab": {
          "base_uri": "https://localhost:8080/"
        },
        "id": "dnZ9lS0nmFI8",
        "outputId": "2e5bed35-5168-45ef-88b4-16b3502ad917"
      },
      "execution_count": null,
      "outputs": [
        {
          "output_type": "stream",
          "name": "stdout",
          "text": [
            "Epoch 1/5\n",
            "\u001b[1m248/248\u001b[0m \u001b[32m━━━━━━━━━━━━━━━━━━━━\u001b[0m\u001b[37m\u001b[0m \u001b[1m5s\u001b[0m 13ms/step - accuracy: 0.9510 - loss: 0.3283 - val_accuracy: 0.9919 - val_loss: 0.0291\n",
            "Epoch 2/5\n",
            "\u001b[1m248/248\u001b[0m \u001b[32m━━━━━━━━━━━━━━━━━━━━\u001b[0m\u001b[37m\u001b[0m \u001b[1m6s\u001b[0m 16ms/step - accuracy: 0.9961 - loss: 0.0130 - val_accuracy: 0.9955 - val_loss: 0.0125\n",
            "Epoch 3/5\n",
            "\u001b[1m248/248\u001b[0m \u001b[32m━━━━━━━━━━━━━━━━━━━━\u001b[0m\u001b[37m\u001b[0m \u001b[1m2s\u001b[0m 10ms/step - accuracy: 0.9999 - loss: 0.0017 - val_accuracy: 0.9970 - val_loss: 0.0102\n",
            "Epoch 4/5\n",
            "\u001b[1m248/248\u001b[0m \u001b[32m━━━━━━━━━━━━━━━━━━━━\u001b[0m\u001b[37m\u001b[0m \u001b[1m2s\u001b[0m 10ms/step - accuracy: 1.0000 - loss: 7.7796e-04 - val_accuracy: 0.9955 - val_loss: 0.0110\n",
            "Epoch 5/5\n",
            "\u001b[1m248/248\u001b[0m \u001b[32m━━━━━━━━━━━━━━━━━━━━\u001b[0m\u001b[37m\u001b[0m \u001b[1m3s\u001b[0m 12ms/step - accuracy: 1.0000 - loss: 4.3829e-04 - val_accuracy: 0.9960 - val_loss: 0.0108\n"
          ]
        }
      ]
    },
    {
      "cell_type": "code",
      "source": [
        "# Оценка модели\n",
        "loss, accuracy = model_embed.evaluate(X_test_pad, y_test, verbose=0)\n",
        "print(f\"\\nEmbedding Model Test Accuracy: {accuracy:.4f}\")"
      ],
      "metadata": {
        "colab": {
          "base_uri": "https://localhost:8080/"
        },
        "id": "DxQE_sSZb1F6",
        "outputId": "ff830ffb-6f58-4a00-fade-0d18b61bdc9c"
      },
      "execution_count": null,
      "outputs": [
        {
          "output_type": "stream",
          "name": "stdout",
          "text": [
            "\n",
            "Embedding Model Test Accuracy: 0.9960\n"
          ]
        }
      ]
    }
  ]
}